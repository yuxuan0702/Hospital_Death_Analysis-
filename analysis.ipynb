{
  "nbformat": 4,
  "nbformat_minor": 0,
  "metadata": {
    "colab": {
      "name": "analysis.ipynb",
      "provenance": [],
      "mount_file_id": "1217NbpQE1dHBdaG3rVlRxP1vQMa_sFpY",
      "authorship_tag": "ABX9TyPs+8vUiJiJyz+ysePPqwWr",
      "include_colab_link": true
    },
    "kernelspec": {
      "name": "python3",
      "display_name": "Python 3"
    }
  },
  "cells": [
    {
      "cell_type": "markdown",
      "metadata": {
        "id": "view-in-github",
        "colab_type": "text"
      },
      "source": [
        "<a href=\"https://colab.research.google.com/github/yuxuan0702/Hospital_Death_Analysis-/blob/master/analysis.ipynb\" target=\"_parent\"><img src=\"https://colab.research.google.com/assets/colab-badge.svg\" alt=\"Open In Colab\"/></a>"
      ]
    },
    {
      "cell_type": "code",
      "metadata": {
        "id": "2hFtxUCfjg1t",
        "colab_type": "code",
        "outputId": "ec2b042d-020b-40eb-d4c9-df0b7b0261cf",
        "colab": {
          "base_uri": "https://localhost:8080/",
          "height": 139
        }
      },
      "source": [
        "import pandas as pd \n",
        "import numpy as np \n",
        "import seaborn as sns \n",
        "import matplotlib.pyplot as plt \n",
        "import xgboost as xgb\n",
        "\n",
        "from imblearn.over_sampling import SMOTE \n",
        "from sklearn.model_selection import train_test_split,GridSearchCV,RandomizedSearchCV\n",
        "from sklearn.linear_model import LogisticRegression\n",
        "from sklearn.ensemble import RandomForestClassifier,GradientBoostingClassifier\n",
        "from sklearn.metrics import roc_auc_score,roc_curve, classification_report, confusion_matrix, accuracy_score ,auc\n",
        "from sklearn.neighbors import KNeighborsClassifier\n",
        "from xgboost import plot_tree\n",
        "from xgboost import plot_importance\n",
        "\n",
        "plt.style.use('ggplot')\n",
        "%matplotlib inline"
      ],
      "execution_count": 0,
      "outputs": [
        {
          "output_type": "stream",
          "text": [
            "/usr/local/lib/python3.6/dist-packages/statsmodels/tools/_testing.py:19: FutureWarning: pandas.util.testing is deprecated. Use the functions in the public API at pandas.testing instead.\n",
            "  import pandas.util.testing as tm\n",
            "/usr/local/lib/python3.6/dist-packages/sklearn/externals/six.py:31: FutureWarning: The module is deprecated in version 0.21 and will be removed in version 0.23 since we've dropped support for Python 2.7. Please rely on the official version of six (https://pypi.org/project/six/).\n",
            "  \"(https://pypi.org/project/six/).\", FutureWarning)\n",
            "/usr/local/lib/python3.6/dist-packages/sklearn/utils/deprecation.py:144: FutureWarning: The sklearn.neighbors.base module is  deprecated in version 0.22 and will be removed in version 0.24. The corresponding classes / functions should instead be imported from sklearn.neighbors. Anything that cannot be imported from sklearn.neighbors is now part of the private API.\n",
            "  warnings.warn(message, FutureWarning)\n"
          ],
          "name": "stderr"
        }
      ]
    },
    {
      "cell_type": "code",
      "metadata": {
        "id": "58aab3I7ljrB",
        "colab_type": "code",
        "outputId": "5c9cef6d-756a-4c6f-bd59-ce872269063e",
        "colab": {
          "base_uri": "https://localhost:8080/",
          "height": 272
        }
      },
      "source": [
        "#import dataset \n",
        "df=pd.read_csv('/content/drive/My Drive/kaggle/widsdatathon2020/cleanning.csv')\n",
        "df.set_index('encounter_id',drop=True,inplace=True)\n",
        "df.head()"
      ],
      "execution_count": 0,
      "outputs": [
        {
          "output_type": "execute_result",
          "data": {
            "text/html": [
              "<div>\n",
              "<style scoped>\n",
              "    .dataframe tbody tr th:only-of-type {\n",
              "        vertical-align: middle;\n",
              "    }\n",
              "\n",
              "    .dataframe tbody tr th {\n",
              "        vertical-align: top;\n",
              "    }\n",
              "\n",
              "    .dataframe thead th {\n",
              "        text-align: right;\n",
              "    }\n",
              "</style>\n",
              "<table border=\"1\" class=\"dataframe\">\n",
              "  <thead>\n",
              "    <tr style=\"text-align: right;\">\n",
              "      <th></th>\n",
              "      <th>hospital_death</th>\n",
              "      <th>apache_post_operative</th>\n",
              "      <th>arf_apache</th>\n",
              "      <th>intubated_apache</th>\n",
              "      <th>ventilated_apache</th>\n",
              "      <th>cirrhosis</th>\n",
              "      <th>hepatic_failure</th>\n",
              "      <th>immunosuppression</th>\n",
              "      <th>leukemia</th>\n",
              "      <th>lymphoma</th>\n",
              "      <th>solid_tumor_with_metastasis</th>\n",
              "      <th>elective_surgery</th>\n",
              "      <th>PC1</th>\n",
              "      <th>PC2</th>\n",
              "      <th>PC3</th>\n",
              "      <th>PC4</th>\n",
              "      <th>PC5</th>\n",
              "      <th>PC6</th>\n",
              "      <th>PC7</th>\n",
              "      <th>PC8</th>\n",
              "      <th>PC9</th>\n",
              "      <th>PC10</th>\n",
              "      <th>PC11</th>\n",
              "      <th>PC12</th>\n",
              "      <th>PC13</th>\n",
              "      <th>PC14</th>\n",
              "      <th>PC15</th>\n",
              "      <th>PC16</th>\n",
              "      <th>PC17</th>\n",
              "      <th>PC18</th>\n",
              "      <th>PC19</th>\n",
              "      <th>PC20</th>\n",
              "      <th>PC21</th>\n",
              "      <th>PC22</th>\n",
              "      <th>PC23</th>\n",
              "      <th>PC24</th>\n",
              "      <th>PC25</th>\n",
              "      <th>PC26</th>\n",
              "      <th>icu_admit_source_Floor</th>\n",
              "      <th>icu_admit_source_Operating Room / Recovery</th>\n",
              "      <th>icu_admit_source_Other Hospital</th>\n",
              "      <th>icu_admit_source_Other ICU</th>\n",
              "      <th>apache_3j_bodysystem_Gastrointestinal</th>\n",
              "      <th>apache_3j_bodysystem_Genitourinary</th>\n",
              "      <th>apache_3j_bodysystem_Gynecological</th>\n",
              "      <th>apache_3j_bodysystem_Hematological</th>\n",
              "      <th>apache_3j_bodysystem_Metabolic</th>\n",
              "      <th>apache_3j_bodysystem_Musculoskeletal/Skin</th>\n",
              "      <th>apache_3j_bodysystem_Neurological</th>\n",
              "      <th>apache_3j_bodysystem_Respiratory</th>\n",
              "      <th>apache_3j_bodysystem_Sepsis</th>\n",
              "      <th>apache_3j_bodysystem_Trauma</th>\n",
              "      <th>apache_2_bodysystem_Gastrointestinal</th>\n",
              "      <th>apache_2_bodysystem_Haematologic</th>\n",
              "      <th>apache_2_bodysystem_Metabolic</th>\n",
              "      <th>apache_2_bodysystem_Neurologic</th>\n",
              "      <th>apache_2_bodysystem_Renal/Genitourinary</th>\n",
              "      <th>apache_2_bodysystem_Respiratory</th>\n",
              "      <th>apache_2_bodysystem_Trauma</th>\n",
              "      <th>apache_2_bodysystem_Undefined Diagnoses</th>\n",
              "      <th>apache_2_bodysystem_Undefined diagnoses</th>\n",
              "    </tr>\n",
              "    <tr>\n",
              "      <th>encounter_id</th>\n",
              "      <th></th>\n",
              "      <th></th>\n",
              "      <th></th>\n",
              "      <th></th>\n",
              "      <th></th>\n",
              "      <th></th>\n",
              "      <th></th>\n",
              "      <th></th>\n",
              "      <th></th>\n",
              "      <th></th>\n",
              "      <th></th>\n",
              "      <th></th>\n",
              "      <th></th>\n",
              "      <th></th>\n",
              "      <th></th>\n",
              "      <th></th>\n",
              "      <th></th>\n",
              "      <th></th>\n",
              "      <th></th>\n",
              "      <th></th>\n",
              "      <th></th>\n",
              "      <th></th>\n",
              "      <th></th>\n",
              "      <th></th>\n",
              "      <th></th>\n",
              "      <th></th>\n",
              "      <th></th>\n",
              "      <th></th>\n",
              "      <th></th>\n",
              "      <th></th>\n",
              "      <th></th>\n",
              "      <th></th>\n",
              "      <th></th>\n",
              "      <th></th>\n",
              "      <th></th>\n",
              "      <th></th>\n",
              "      <th></th>\n",
              "      <th></th>\n",
              "      <th></th>\n",
              "      <th></th>\n",
              "      <th></th>\n",
              "      <th></th>\n",
              "      <th></th>\n",
              "      <th></th>\n",
              "      <th></th>\n",
              "      <th></th>\n",
              "      <th></th>\n",
              "      <th></th>\n",
              "      <th></th>\n",
              "      <th></th>\n",
              "      <th></th>\n",
              "      <th></th>\n",
              "      <th></th>\n",
              "      <th></th>\n",
              "      <th></th>\n",
              "      <th></th>\n",
              "      <th></th>\n",
              "      <th></th>\n",
              "      <th></th>\n",
              "      <th></th>\n",
              "      <th></th>\n",
              "    </tr>\n",
              "  </thead>\n",
              "  <tbody>\n",
              "    <tr>\n",
              "      <th>66154</th>\n",
              "      <td>0</td>\n",
              "      <td>0</td>\n",
              "      <td>0.0</td>\n",
              "      <td>0.0</td>\n",
              "      <td>0.0</td>\n",
              "      <td>0.0</td>\n",
              "      <td>0.0</td>\n",
              "      <td>0.0</td>\n",
              "      <td>0.0</td>\n",
              "      <td>0.0</td>\n",
              "      <td>0.0</td>\n",
              "      <td>0</td>\n",
              "      <td>-3.335190</td>\n",
              "      <td>2.381214</td>\n",
              "      <td>-0.582790</td>\n",
              "      <td>-1.613473</td>\n",
              "      <td>0.051201</td>\n",
              "      <td>-0.075162</td>\n",
              "      <td>1.234154</td>\n",
              "      <td>-0.361049</td>\n",
              "      <td>-1.139653</td>\n",
              "      <td>-1.185600</td>\n",
              "      <td>1.717745</td>\n",
              "      <td>1.967171</td>\n",
              "      <td>0.934547</td>\n",
              "      <td>0.771339</td>\n",
              "      <td>-0.074759</td>\n",
              "      <td>1.224251</td>\n",
              "      <td>0.029751</td>\n",
              "      <td>-1.126761</td>\n",
              "      <td>-1.961089</td>\n",
              "      <td>1.347779</td>\n",
              "      <td>-1.305763</td>\n",
              "      <td>-0.064661</td>\n",
              "      <td>-0.494329</td>\n",
              "      <td>-0.555319</td>\n",
              "      <td>-0.228261</td>\n",
              "      <td>0.335358</td>\n",
              "      <td>1</td>\n",
              "      <td>0</td>\n",
              "      <td>0</td>\n",
              "      <td>0</td>\n",
              "      <td>0</td>\n",
              "      <td>0</td>\n",
              "      <td>0</td>\n",
              "      <td>0</td>\n",
              "      <td>0</td>\n",
              "      <td>0</td>\n",
              "      <td>0</td>\n",
              "      <td>0</td>\n",
              "      <td>1</td>\n",
              "      <td>0</td>\n",
              "      <td>0</td>\n",
              "      <td>0</td>\n",
              "      <td>0</td>\n",
              "      <td>0</td>\n",
              "      <td>0</td>\n",
              "      <td>0</td>\n",
              "      <td>0</td>\n",
              "      <td>0</td>\n",
              "      <td>0</td>\n",
              "    </tr>\n",
              "    <tr>\n",
              "      <th>114252</th>\n",
              "      <td>0</td>\n",
              "      <td>0</td>\n",
              "      <td>0.0</td>\n",
              "      <td>0.0</td>\n",
              "      <td>1.0</td>\n",
              "      <td>0.0</td>\n",
              "      <td>0.0</td>\n",
              "      <td>0.0</td>\n",
              "      <td>0.0</td>\n",
              "      <td>0.0</td>\n",
              "      <td>0.0</td>\n",
              "      <td>0</td>\n",
              "      <td>-3.543325</td>\n",
              "      <td>1.300965</td>\n",
              "      <td>-5.057589</td>\n",
              "      <td>2.526991</td>\n",
              "      <td>-2.252113</td>\n",
              "      <td>-0.893916</td>\n",
              "      <td>-0.447834</td>\n",
              "      <td>3.483589</td>\n",
              "      <td>-1.764876</td>\n",
              "      <td>1.375069</td>\n",
              "      <td>0.879093</td>\n",
              "      <td>-1.310932</td>\n",
              "      <td>1.363675</td>\n",
              "      <td>3.609753</td>\n",
              "      <td>1.969305</td>\n",
              "      <td>0.957194</td>\n",
              "      <td>1.209773</td>\n",
              "      <td>0.926078</td>\n",
              "      <td>-0.664469</td>\n",
              "      <td>0.450845</td>\n",
              "      <td>-1.308449</td>\n",
              "      <td>-0.542452</td>\n",
              "      <td>-0.673596</td>\n",
              "      <td>-0.749736</td>\n",
              "      <td>0.810751</td>\n",
              "      <td>1.082449</td>\n",
              "      <td>1</td>\n",
              "      <td>0</td>\n",
              "      <td>0</td>\n",
              "      <td>0</td>\n",
              "      <td>0</td>\n",
              "      <td>0</td>\n",
              "      <td>0</td>\n",
              "      <td>0</td>\n",
              "      <td>0</td>\n",
              "      <td>0</td>\n",
              "      <td>0</td>\n",
              "      <td>1</td>\n",
              "      <td>0</td>\n",
              "      <td>0</td>\n",
              "      <td>0</td>\n",
              "      <td>0</td>\n",
              "      <td>0</td>\n",
              "      <td>0</td>\n",
              "      <td>0</td>\n",
              "      <td>1</td>\n",
              "      <td>0</td>\n",
              "      <td>0</td>\n",
              "      <td>0</td>\n",
              "    </tr>\n",
              "    <tr>\n",
              "      <th>33181</th>\n",
              "      <td>0</td>\n",
              "      <td>0</td>\n",
              "      <td>0.0</td>\n",
              "      <td>0.0</td>\n",
              "      <td>0.0</td>\n",
              "      <td>0.0</td>\n",
              "      <td>0.0</td>\n",
              "      <td>0.0</td>\n",
              "      <td>0.0</td>\n",
              "      <td>0.0</td>\n",
              "      <td>0.0</td>\n",
              "      <td>0</td>\n",
              "      <td>6.194737</td>\n",
              "      <td>-1.749545</td>\n",
              "      <td>-1.100786</td>\n",
              "      <td>0.720175</td>\n",
              "      <td>1.771603</td>\n",
              "      <td>0.891253</td>\n",
              "      <td>0.398781</td>\n",
              "      <td>-0.911059</td>\n",
              "      <td>0.344284</td>\n",
              "      <td>0.661216</td>\n",
              "      <td>0.049648</td>\n",
              "      <td>0.743131</td>\n",
              "      <td>0.914935</td>\n",
              "      <td>-0.926319</td>\n",
              "      <td>-0.080965</td>\n",
              "      <td>-0.617036</td>\n",
              "      <td>-1.008736</td>\n",
              "      <td>1.242340</td>\n",
              "      <td>-0.845628</td>\n",
              "      <td>0.711307</td>\n",
              "      <td>1.021003</td>\n",
              "      <td>1.517570</td>\n",
              "      <td>-0.360611</td>\n",
              "      <td>-0.304196</td>\n",
              "      <td>-0.775773</td>\n",
              "      <td>0.329519</td>\n",
              "      <td>0</td>\n",
              "      <td>0</td>\n",
              "      <td>0</td>\n",
              "      <td>0</td>\n",
              "      <td>0</td>\n",
              "      <td>0</td>\n",
              "      <td>0</td>\n",
              "      <td>0</td>\n",
              "      <td>0</td>\n",
              "      <td>0</td>\n",
              "      <td>1</td>\n",
              "      <td>0</td>\n",
              "      <td>0</td>\n",
              "      <td>0</td>\n",
              "      <td>0</td>\n",
              "      <td>0</td>\n",
              "      <td>0</td>\n",
              "      <td>1</td>\n",
              "      <td>0</td>\n",
              "      <td>0</td>\n",
              "      <td>0</td>\n",
              "      <td>0</td>\n",
              "      <td>0</td>\n",
              "    </tr>\n",
              "    <tr>\n",
              "      <th>22471</th>\n",
              "      <td>0</td>\n",
              "      <td>0</td>\n",
              "      <td>0.0</td>\n",
              "      <td>1.0</td>\n",
              "      <td>1.0</td>\n",
              "      <td>0.0</td>\n",
              "      <td>0.0</td>\n",
              "      <td>0.0</td>\n",
              "      <td>0.0</td>\n",
              "      <td>0.0</td>\n",
              "      <td>0.0</td>\n",
              "      <td>0</td>\n",
              "      <td>3.842202</td>\n",
              "      <td>-1.429704</td>\n",
              "      <td>-1.306985</td>\n",
              "      <td>1.363854</td>\n",
              "      <td>1.096950</td>\n",
              "      <td>-0.459458</td>\n",
              "      <td>0.974354</td>\n",
              "      <td>-1.540860</td>\n",
              "      <td>-0.525078</td>\n",
              "      <td>-0.689122</td>\n",
              "      <td>-0.749525</td>\n",
              "      <td>-0.239030</td>\n",
              "      <td>-0.283553</td>\n",
              "      <td>1.633762</td>\n",
              "      <td>2.693094</td>\n",
              "      <td>-0.840915</td>\n",
              "      <td>-0.113810</td>\n",
              "      <td>-1.552388</td>\n",
              "      <td>0.022887</td>\n",
              "      <td>-0.451576</td>\n",
              "      <td>0.046648</td>\n",
              "      <td>0.345329</td>\n",
              "      <td>0.852741</td>\n",
              "      <td>-0.657221</td>\n",
              "      <td>-0.165034</td>\n",
              "      <td>-0.781128</td>\n",
              "      <td>0</td>\n",
              "      <td>0</td>\n",
              "      <td>0</td>\n",
              "      <td>0</td>\n",
              "      <td>0</td>\n",
              "      <td>0</td>\n",
              "      <td>0</td>\n",
              "      <td>0</td>\n",
              "      <td>0</td>\n",
              "      <td>0</td>\n",
              "      <td>0</td>\n",
              "      <td>1</td>\n",
              "      <td>0</td>\n",
              "      <td>0</td>\n",
              "      <td>0</td>\n",
              "      <td>0</td>\n",
              "      <td>0</td>\n",
              "      <td>0</td>\n",
              "      <td>0</td>\n",
              "      <td>1</td>\n",
              "      <td>0</td>\n",
              "      <td>0</td>\n",
              "      <td>0</td>\n",
              "    </tr>\n",
              "    <tr>\n",
              "      <th>95460</th>\n",
              "      <td>0</td>\n",
              "      <td>0</td>\n",
              "      <td>0.0</td>\n",
              "      <td>0.0</td>\n",
              "      <td>1.0</td>\n",
              "      <td>0.0</td>\n",
              "      <td>0.0</td>\n",
              "      <td>0.0</td>\n",
              "      <td>0.0</td>\n",
              "      <td>0.0</td>\n",
              "      <td>0.0</td>\n",
              "      <td>0</td>\n",
              "      <td>3.476526</td>\n",
              "      <td>0.620637</td>\n",
              "      <td>0.258487</td>\n",
              "      <td>-2.901996</td>\n",
              "      <td>-1.774808</td>\n",
              "      <td>1.129664</td>\n",
              "      <td>-1.932921</td>\n",
              "      <td>3.860748</td>\n",
              "      <td>-0.466828</td>\n",
              "      <td>0.259060</td>\n",
              "      <td>-1.549944</td>\n",
              "      <td>-0.158186</td>\n",
              "      <td>-0.001860</td>\n",
              "      <td>0.520690</td>\n",
              "      <td>1.784978</td>\n",
              "      <td>-0.359896</td>\n",
              "      <td>0.191125</td>\n",
              "      <td>-0.311717</td>\n",
              "      <td>0.814498</td>\n",
              "      <td>2.298634</td>\n",
              "      <td>-0.946753</td>\n",
              "      <td>-0.310629</td>\n",
              "      <td>0.491395</td>\n",
              "      <td>-0.020898</td>\n",
              "      <td>-0.232440</td>\n",
              "      <td>1.169324</td>\n",
              "      <td>1</td>\n",
              "      <td>0</td>\n",
              "      <td>0</td>\n",
              "      <td>0</td>\n",
              "      <td>0</td>\n",
              "      <td>0</td>\n",
              "      <td>0</td>\n",
              "      <td>0</td>\n",
              "      <td>0</td>\n",
              "      <td>0</td>\n",
              "      <td>0</td>\n",
              "      <td>0</td>\n",
              "      <td>1</td>\n",
              "      <td>0</td>\n",
              "      <td>0</td>\n",
              "      <td>0</td>\n",
              "      <td>0</td>\n",
              "      <td>0</td>\n",
              "      <td>0</td>\n",
              "      <td>0</td>\n",
              "      <td>0</td>\n",
              "      <td>0</td>\n",
              "      <td>0</td>\n",
              "    </tr>\n",
              "  </tbody>\n",
              "</table>\n",
              "</div>"
            ],
            "text/plain": [
              "              hospital_death  ...  apache_2_bodysystem_Undefined diagnoses\n",
              "encounter_id                  ...                                         \n",
              "66154                      0  ...                                        0\n",
              "114252                     0  ...                                        0\n",
              "33181                      0  ...                                        0\n",
              "22471                      0  ...                                        0\n",
              "95460                      0  ...                                        0\n",
              "\n",
              "[5 rows x 61 columns]"
            ]
          },
          "metadata": {
            "tags": []
          },
          "execution_count": 3
        }
      ]
    },
    {
      "cell_type": "code",
      "metadata": {
        "colab_type": "code",
        "id": "GZSk-P-wcBed",
        "colab": {}
      },
      "source": [
        "#define target and feature\n",
        "y=df['hospital_death']\n",
        "X=df.drop(columns='hospital_death')"
      ],
      "execution_count": 0,
      "outputs": []
    },
    {
      "cell_type": "markdown",
      "metadata": {
        "id": "oTQidBZOMoYQ",
        "colab_type": "text"
      },
      "source": [
        "# Train Test Split \n"
      ]
    },
    {
      "cell_type": "code",
      "metadata": {
        "id": "7cayYQ2wMuYX",
        "colab_type": "code",
        "colab": {}
      },
      "source": [
        "X_train,X_test,y_train,y_test= train_test_split(X,y,test_size=0.2,random_state=42)"
      ],
      "execution_count": 0,
      "outputs": []
    },
    {
      "cell_type": "code",
      "metadata": {
        "id": "EaJu98PqO02V",
        "colab_type": "code",
        "colab": {}
      },
      "source": [
        "sm= SMOTE(random_state=42)"
      ],
      "execution_count": 0,
      "outputs": []
    },
    {
      "cell_type": "code",
      "metadata": {
        "id": "Rntj_M3dPMWi",
        "colab_type": "code",
        "outputId": "d5652102-8e9c-4942-9e82-f5b753c01963",
        "colab": {
          "base_uri": "https://localhost:8080/",
          "height": 71
        }
      },
      "source": [
        "X_res, y_res = sm.fit_resample(X_train,y_train)"
      ],
      "execution_count": 0,
      "outputs": [
        {
          "output_type": "stream",
          "text": [
            "/usr/local/lib/python3.6/dist-packages/sklearn/utils/deprecation.py:87: FutureWarning: Function safe_indexing is deprecated; safe_indexing is deprecated in version 0.22 and will be removed in version 0.24.\n",
            "  warnings.warn(msg, category=FutureWarning)\n"
          ],
          "name": "stderr"
        }
      ]
    },
    {
      "cell_type": "code",
      "metadata": {
        "id": "Pg-yckzncaXm",
        "colab_type": "code",
        "outputId": "c10acdf0-962e-4cc2-9ceb-8dc00551f4e1",
        "colab": {
          "base_uri": "https://localhost:8080/",
          "height": 299
        }
      },
      "source": [
        "sns.countplot(y_train)"
      ],
      "execution_count": 0,
      "outputs": [
        {
          "output_type": "execute_result",
          "data": {
            "text/plain": [
              "<matplotlib.axes._subplots.AxesSubplot at 0x7f68c01c6048>"
            ]
          },
          "metadata": {
            "tags": []
          },
          "execution_count": 8
        },
        {
          "output_type": "display_data",
          "data": {
            "image/png": "[encoded data removed]",
            "text/plain": [
              "<Figure size 432x288 with 1 Axes>"
            ]
          },
          "metadata": {
            "tags": []
          }
        }
      ]
    },
    {
      "cell_type": "code",
      "metadata": {
        "id": "YFNc3r0ZiKVP",
        "colab_type": "code",
        "outputId": "19960bae-e706-40d0-a512-b177c2165743",
        "colab": {
          "base_uri": "https://localhost:8080/",
          "height": 282
        }
      },
      "source": [
        "sns.countplot(y_res)"
      ],
      "execution_count": 0,
      "outputs": [
        {
          "output_type": "execute_result",
          "data": {
            "text/plain": [
              "<matplotlib.axes._subplots.AxesSubplot at 0x7f68bfd241d0>"
            ]
          },
          "metadata": {
            "tags": []
          },
          "execution_count": 9
        },
        {
          "output_type": "display_data",
          "data": {
            "image/png": "[encoded data removed]",
            "text/plain": [
              "<Figure size 432x288 with 1 Axes>"
            ]
          },
          "metadata": {
            "tags": []
          }
        }
      ]
    },
    {
      "cell_type": "markdown",
      "metadata": {
        "id": "PEUSxPzPej1T",
        "colab_type": "text"
      },
      "source": [
        "# Logistic Regression "
      ]
    },
    {
      "cell_type": "code",
      "metadata": {
        "id": "xrsD_ELeejeV",
        "colab_type": "code",
        "colab": {}
      },
      "source": [
        "lr=LogisticRegression()"
      ],
      "execution_count": 0,
      "outputs": []
    },
    {
      "cell_type": "code",
      "metadata": {
        "id": "gYPF6WQcfLgH",
        "colab_type": "code",
        "outputId": "8b7a6720-ffe1-46a9-8450-c0fe2ecbf962",
        "colab": {
          "base_uri": "https://localhost:8080/",
          "height": 258
        }
      },
      "source": [
        "lr.fit(X_res,y_res)"
      ],
      "execution_count": 0,
      "outputs": [
        {
          "output_type": "stream",
          "text": [
            "/usr/local/lib/python3.6/dist-packages/sklearn/linear_model/_logistic.py:940: ConvergenceWarning: lbfgs failed to converge (status=1):\n",
            "STOP: TOTAL NO. of ITERATIONS REACHED LIMIT.\n",
            "\n",
            "Increase the number of iterations (max_iter) or scale the data as shown in:\n",
            "    https://scikit-learn.org/stable/modules/preprocessing.html\n",
            "Please also refer to the documentation for alternative solver options:\n",
            "    https://scikit-learn.org/stable/modules/linear_model.html#logistic-regression\n",
            "  extra_warning_msg=_LOGISTIC_SOLVER_CONVERGENCE_MSG)\n"
          ],
          "name": "stderr"
        },
        {
          "output_type": "execute_result",
          "data": {
            "text/plain": [
              "LogisticRegression(C=1.0, class_weight=None, dual=False, fit_intercept=True,\n",
              "                   intercept_scaling=1, l1_ratio=None, max_iter=100,\n",
              "                   multi_class='auto', n_jobs=None, penalty='l2',\n",
              "                   random_state=None, solver='lbfgs', tol=0.0001, verbose=0,\n",
              "                   warm_start=False)"
            ]
          },
          "metadata": {
            "tags": []
          },
          "execution_count": 11
        }
      ]
    },
    {
      "cell_type": "code",
      "metadata": {
        "id": "ukR7e-vEfNy4",
        "colab_type": "code",
        "colab": {}
      },
      "source": [
        "y_preds_lr=lr.predict(X_test)"
      ],
      "execution_count": 0,
      "outputs": []
    },
    {
      "cell_type": "code",
      "metadata": {
        "id": "qnlT3_nvfXSk",
        "colab_type": "code",
        "outputId": "360b96d1-7125-47c7-c207-c52f46d6b91d",
        "colab": {
          "base_uri": "https://localhost:8080/",
          "height": 34
        }
      },
      "source": [
        "log_score=accuracy_score(y_test,y_preds_lr)\n",
        "log_score"
      ],
      "execution_count": 0,
      "outputs": [
        {
          "output_type": "execute_result",
          "data": {
            "text/plain": [
              "0.7906098219104155"
            ]
          },
          "metadata": {
            "tags": []
          },
          "execution_count": 15
        }
      ]
    },
    {
      "cell_type": "code",
      "metadata": {
        "id": "5XBU8dsbfTls",
        "colab_type": "code",
        "outputId": "1ae41083-4e20-4010-eb90-1a1e3c214f06",
        "colab": {
          "base_uri": "https://localhost:8080/",
          "height": 34
        }
      },
      "source": [
        "log_roc=roc_auc_score(y_test,y_preds_lr)\n",
        "log_roc"
      ],
      "execution_count": 0,
      "outputs": [
        {
          "output_type": "execute_result",
          "data": {
            "text/plain": [
              "0.7781649058926098"
            ]
          },
          "metadata": {
            "tags": []
          },
          "execution_count": 16
        }
      ]
    },
    {
      "cell_type": "markdown",
      "metadata": {
        "id": "cv-XvEbYuWKA",
        "colab_type": "text"
      },
      "source": [
        "# KNN"
      ]
    },
    {
      "cell_type": "code",
      "metadata": {
        "id": "PFFCAhF9uX6h",
        "colab_type": "code",
        "outputId": "07ed6c68-c097-44a4-8d5b-346cb10275b7",
        "colab": {
          "base_uri": "https://localhost:8080/",
          "height": 340
        }
      },
      "source": [
        "#find the best knn model \n",
        "score=[]\n",
        "for i in range (1,20,1):\n",
        "  knn=KNeighborsClassifier(n_neighbors=i)\n",
        "  knn.fit(X_res,y_res)\n",
        "  print(i,roc_auc_score(y_test,knn.predict(X_test)))\n",
        "  score.append(knn.score(X_test,y_test))"
      ],
      "execution_count": 0,
      "outputs": [
        {
          "output_type": "stream",
          "text": [
            "1 0.6603030924662803\n",
            "2 0.639487922457562\n",
            "3 0.6982249089696908\n",
            "4 0.6851537258320939\n",
            "5 0.7086837786553157\n",
            "6 0.701811631365711\n",
            "7 0.7163219908713268\n",
            "8 0.7162001897533207\n",
            "9 0.7221428021949843\n",
            "10 0.7178477101389814\n",
            "11 0.7271590850812862\n",
            "12 0.7255019488178881\n",
            "13 0.7247647315246936\n",
            "14 0.7274635878763012\n",
            "15 0.7325183342735524\n",
            "16 0.7330311810862096\n",
            "17 0.7302425765423867\n",
            "18 0.7313516077747576\n",
            "19 0.72980024616647\n"
          ],
          "name": "stdout"
        }
      ]
    },
    {
      "cell_type": "markdown",
      "metadata": {
        "id": "Vn9QkzoHcpN6",
        "colab_type": "text"
      },
      "source": [
        "we can find that knn16 is the best model "
      ]
    },
    {
      "cell_type": "code",
      "metadata": {
        "id": "1dZt6l8d3sJA",
        "colab_type": "code",
        "colab": {}
      },
      "source": [
        "knn16=KNeighborsClassifier(n_neighbors=16)"
      ],
      "execution_count": 0,
      "outputs": []
    },
    {
      "cell_type": "code",
      "metadata": {
        "id": "dxtdkhcI34vL",
        "colab_type": "code",
        "outputId": "a29e9a3d-4ee6-426c-b18e-d249e05e801e",
        "colab": {
          "base_uri": "https://localhost:8080/",
          "height": 68
        }
      },
      "source": [
        "knn16.fit(X_res,y_res)"
      ],
      "execution_count": 0,
      "outputs": [
        {
          "output_type": "execute_result",
          "data": {
            "text/plain": [
              "KNeighborsClassifier(algorithm='auto', leaf_size=30, metric='minkowski',\n",
              "                     metric_params=None, n_jobs=None, n_neighbors=16, p=2,\n",
              "                     weights='uniform')"
            ]
          },
          "metadata": {
            "tags": []
          },
          "execution_count": 83
        }
      ]
    },
    {
      "cell_type": "code",
      "metadata": {
        "id": "vC46gxDr4JjA",
        "colab_type": "code",
        "outputId": "4cfb7ac6-0002-43dd-9b70-60a68b856d0f",
        "colab": {
          "base_uri": "https://localhost:8080/",
          "height": 34
        }
      },
      "source": [
        "knn_score=knn16.score(X_test,y_test)\n",
        "knn_pred_y=knn16.predict(X_test)\n",
        "knn_roc=roc_auc_score(y_test,knn_pred_y)\n",
        "print('knn score:', knn_score,'knn roc:',knn_roc)"
      ],
      "execution_count": 0,
      "outputs": [
        {
          "output_type": "stream",
          "text": [
            "knn score: 0.7319661809678 knn roc: 0.7330311810862096\n"
          ],
          "name": "stdout"
        }
      ]
    },
    {
      "cell_type": "markdown",
      "metadata": {
        "id": "LPJjAJiaP5il",
        "colab_type": "text"
      },
      "source": [
        "# XGBOOST"
      ]
    },
    {
      "cell_type": "code",
      "metadata": {
        "id": "imBMYk9dQiam",
        "colab_type": "code",
        "outputId": "0bb2e34f-f0ce-4e77-d2e1-4d630ab5845c",
        "colab": {
          "base_uri": "https://localhost:8080/",
          "height": 136
        }
      },
      "source": [
        "xg_cl=xgb.XGBClassifier(objective='binary:logistic')\n",
        "xg_cl.fit(X_train,y_train)"
      ],
      "execution_count": 0,
      "outputs": [
        {
          "output_type": "execute_result",
          "data": {
            "text/plain": [
              "XGBClassifier(base_score=0.5, booster='gbtree', colsample_bylevel=1,\n",
              "              colsample_bynode=1, colsample_bytree=1, gamma=0,\n",
              "              learning_rate=0.1, max_delta_step=0, max_depth=3,\n",
              "              min_child_weight=1, missing=None, n_estimators=100, n_jobs=1,\n",
              "              nthread=None, objective='binary:logistic', random_state=0,\n",
              "              reg_alpha=0, reg_lambda=1, scale_pos_weight=1, seed=None,\n",
              "              silent=None, subsample=1, verbosity=1)"
            ]
          },
          "metadata": {
            "tags": []
          },
          "execution_count": 18
        }
      ]
    },
    {
      "cell_type": "code",
      "metadata": {
        "id": "RD1vkqOPrdY3",
        "colab_type": "code",
        "colab": {}
      },
      "source": [
        "y_preds_xgb=xg_cl.predict(X_test)"
      ],
      "execution_count": 0,
      "outputs": []
    },
    {
      "cell_type": "code",
      "metadata": {
        "id": "a9PEOCWVQw-q",
        "colab_type": "code",
        "outputId": "e595352c-3b15-4996-cc0f-f16f0d0a7f45",
        "colab": {
          "base_uri": "https://localhost:8080/",
          "height": 34
        }
      },
      "source": [
        "xgb_score=accuracy_score(y_test,y_preds_xgb)\n",
        "xgb_roc=roc_auc_score(y_test,y_preds_xgb)\n",
        "print('xgb_score:', xgb_score, 'xgb_roc: ',xgb_roc)"
      ],
      "execution_count": 0,
      "outputs": [
        {
          "output_type": "stream",
          "text": [
            "xgb_score: 0.9163518618456556 xgb_roc:  0.5919502282168316\n"
          ],
          "name": "stdout"
        }
      ]
    },
    {
      "cell_type": "code",
      "metadata": {
        "id": "hBJKRxzaQ8MC",
        "colab_type": "code",
        "outputId": "b435b980-c225-4e49-89df-493fc7846df9",
        "colab": {
          "base_uri": "https://localhost:8080/",
          "height": 299
        }
      },
      "source": [
        "plot_importance(xg_cl)\n",
        "plt.show()"
      ],
      "execution_count": 0,
      "outputs": [
        {
          "output_type": "display_data",
          "data": {
            "image/png": "[encoded data removed]",
            "text/plain": [
              "<Figure size 432x288 with 1 Axes>"
            ]
          },
          "metadata": {
            "tags": []
          }
        }
      ]
    },
    {
      "cell_type": "code",
      "metadata": {
        "id": "Xh0nqCXBR5iu",
        "colab_type": "code",
        "outputId": "4749102d-9630-4650-f3d0-fcfe7917df64",
        "colab": {
          "base_uri": "https://localhost:8080/",
          "height": 117
        }
      },
      "source": [
        "plot_tree(xg_cl)"
      ],
      "execution_count": 0,
      "outputs": [
        {
          "output_type": "execute_result",
          "data": {
            "text/plain": [
              "<matplotlib.axes._subplots.AxesSubplot at 0x7f68bd3adf98>"
            ]
          },
          "metadata": {
            "tags": []
          },
          "execution_count": 22
        },
        {
          "output_type": "display_data",
          "data": {
            "image/png": "[encoded data removed]",
            "text/plain": [
              "<Figure size 432x288 with 1 Axes>"
            ]
          },
          "metadata": {
            "tags": []
          }
        }
      ]
    },
    {
      "cell_type": "markdown",
      "metadata": {
        "id": "RPyhEIXtSKBL",
        "colab_type": "text"
      },
      "source": [
        "# Gradient Boost "
      ]
    },
    {
      "cell_type": "code",
      "metadata": {
        "id": "QNJ7PoZbSY92",
        "colab_type": "code",
        "outputId": "b49e0e99-c679-4481-81e5-50cff127549c",
        "colab": {
          "base_uri": "https://localhost:8080/",
          "height": 187
        }
      },
      "source": [
        "#fit the gradient boost model \n",
        "gb=GradientBoostingClassifier()\n",
        "gb.fit(X_res,y_res)"
      ],
      "execution_count": 0,
      "outputs": [
        {
          "output_type": "execute_result",
          "data": {
            "text/plain": [
              "GradientBoostingClassifier(ccp_alpha=0.0, criterion='friedman_mse', init=None,\n",
              "                           learning_rate=0.1, loss='deviance', max_depth=3,\n",
              "                           max_features=None, max_leaf_nodes=None,\n",
              "                           min_impurity_decrease=0.0, min_impurity_split=None,\n",
              "                           min_samples_leaf=1, min_samples_split=2,\n",
              "                           min_weight_fraction_leaf=0.0, n_estimators=100,\n",
              "                           n_iter_no_change=None, presort='deprecated',\n",
              "                           random_state=None, subsample=1.0, tol=0.0001,\n",
              "                           validation_fraction=0.1, verbose=0,\n",
              "                           warm_start=False)"
            ]
          },
          "metadata": {
            "tags": []
          },
          "execution_count": 23
        }
      ]
    },
    {
      "cell_type": "code",
      "metadata": {
        "id": "SALgNIQISfUx",
        "colab_type": "code",
        "colab": {}
      },
      "source": [
        "y_preds_gb=gb.predict(X_test)"
      ],
      "execution_count": 0,
      "outputs": []
    },
    {
      "cell_type": "code",
      "metadata": {
        "id": "OHzOno-wTMWW",
        "colab_type": "code",
        "outputId": "2b38ac63-25ff-482f-8f07-cad6cb990637",
        "colab": {
          "base_uri": "https://localhost:8080/",
          "height": 34
        }
      },
      "source": [
        "gb_score=accuracy_score(y_test,y_preds_gb)\n",
        "gb_roc=roc_auc_score(y_test,y_preds_gb)\n",
        "print ( 'gb_score:',gb_score, 'gb_roc:',gb_roc)"
      ],
      "execution_count": 0,
      "outputs": [
        {
          "output_type": "stream",
          "text": [
            "gb_score: 0.8933261377945674 gb_roc: 0.6896539566131598\n"
          ],
          "name": "stdout"
        }
      ]
    },
    {
      "cell_type": "markdown",
      "metadata": {
        "id": "HNifg8M3FwjB",
        "colab_type": "text"
      },
      "source": [
        "# Random Frost "
      ]
    },
    {
      "cell_type": "markdown",
      "metadata": {
        "id": "hf5NS8uNdinC",
        "colab_type": "text"
      },
      "source": [
        "## basic random forest model "
      ]
    },
    {
      "cell_type": "code",
      "metadata": {
        "id": "3SHCLIosdh7B",
        "colab_type": "code",
        "colab": {}
      },
      "source": [
        "rf=RandomForestClassifier(random_state=42)"
      ],
      "execution_count": 0,
      "outputs": []
    },
    {
      "cell_type": "code",
      "metadata": {
        "id": "EosqPbMMNcbU",
        "colab_type": "code",
        "outputId": "43aa8e0e-9669-4b0b-e3a7-80bd4477d574",
        "colab": {
          "base_uri": "https://localhost:8080/",
          "height": 153
        }
      },
      "source": [
        "rf.fit(X_res,y_res)"
      ],
      "execution_count": 0,
      "outputs": [
        {
          "output_type": "execute_result",
          "data": {
            "text/plain": [
              "RandomForestClassifier(bootstrap=True, ccp_alpha=0.0, class_weight=None,\n",
              "                       criterion='gini', max_depth=None, max_features='auto',\n",
              "                       max_leaf_nodes=None, max_samples=None,\n",
              "                       min_impurity_decrease=0.0, min_impurity_split=None,\n",
              "                       min_samples_leaf=1, min_samples_split=2,\n",
              "                       min_weight_fraction_leaf=0.0, n_estimators=100,\n",
              "                       n_jobs=None, oob_score=False, random_state=42, verbose=0,\n",
              "                       warm_start=False)"
            ]
          },
          "metadata": {
            "tags": []
          },
          "execution_count": 28
        }
      ]
    },
    {
      "cell_type": "code",
      "metadata": {
        "id": "UoorZOy083mY",
        "colab_type": "code",
        "outputId": "954c5278-7417-4b42-f2a5-0d6cd91a1b61",
        "colab": {
          "base_uri": "https://localhost:8080/",
          "height": 34
        }
      },
      "source": [
        "rf_score=accuracy_score(y_test,y_preds_gb)\n",
        "rf_roc=roc_auc_score(y_test,y_preds_gb)\n",
        "print ( 'rf_score:',gb_score, 'rf_roc:',gb_roc)"
      ],
      "execution_count": 0,
      "outputs": [
        {
          "output_type": "stream",
          "text": [
            "rf_score: 0.8933261377945674 rf_roc: 0.6896539566131598\n"
          ],
          "name": "stdout"
        }
      ]
    },
    {
      "cell_type": "markdown",
      "metadata": {
        "id": "fX-KsYo8eCUK",
        "colab_type": "text"
      },
      "source": [
        "## hyperparameter Tuning \n",
        "We cound find that there are some hyperparameters we can tuning in the random forest : \n",
        "**criterion**,**max_depth**,**min_samples_leaf**,**min_samples_split**,**n_estimators**...\n",
        "\n",
        "We are going to tuning those parameters here.\n",
        "We used randomizedsearch here which is more efficient than gridsearch "
      ]
    },
    {
      "cell_type": "markdown",
      "metadata": {
        "id": "dcCX8q8meFlX",
        "colab_type": "text"
      },
      "source": [
        "### Max depth"
      ]
    },
    {
      "cell_type": "code",
      "metadata": {
        "id": "fJ-kO_vzfVWv",
        "colab_type": "code",
        "colab": {}
      },
      "source": [
        "param_test1={'max_depth':range(10,62,10)}"
      ],
      "execution_count": 0,
      "outputs": []
    },
    {
      "cell_type": "code",
      "metadata": {
        "id": "m_fLGnogfYcB",
        "colab_type": "code",
        "colab": {}
      },
      "source": [
        "cv1=RandomizedSearchCV(rf,\n",
        "                   param_distributions=param_test1,\n",
        "                   n_iter=10,\n",
        "                   scoring='roc_auc',\n",
        "                   refit=True,\n",
        "                   cv=10,\n",
        "                   return_train_score=True)"
      ],
      "execution_count": 0,
      "outputs": []
    },
    {
      "cell_type": "code",
      "metadata": {
        "id": "ijcQHHlufZhj",
        "colab_type": "code",
        "outputId": "71e899af-5cb4-4fc0-df4d-dd75a7714d12",
        "colab": {
          "base_uri": "https://localhost:8080/",
          "height": 462
        }
      },
      "source": [
        "cv1.fit(X_res,y_res)"
      ],
      "execution_count": 0,
      "outputs": [
        {
          "output_type": "stream",
          "text": [
            "/usr/local/lib/python3.6/dist-packages/sklearn/model_selection/_search.py:281: UserWarning: The total space of parameters 6 is smaller than n_iter=10. Running 6 iterations. For exhaustive searches, use GridSearchCV.\n",
            "  % (grid_size, self.n_iter, grid_size), UserWarning)\n"
          ],
          "name": "stderr"
        },
        {
          "output_type": "execute_result",
          "data": {
            "text/plain": [
              "RandomizedSearchCV(cv=10, error_score=nan,\n",
              "                   estimator=RandomForestClassifier(bootstrap=True,\n",
              "                                                    ccp_alpha=0.0,\n",
              "                                                    class_weight=None,\n",
              "                                                    criterion='gini',\n",
              "                                                    max_depth=None,\n",
              "                                                    max_features='auto',\n",
              "                                                    max_leaf_nodes=None,\n",
              "                                                    max_samples=None,\n",
              "                                                    min_impurity_decrease=0.0,\n",
              "                                                    min_impurity_split=None,\n",
              "                                                    min_samples_leaf=1,\n",
              "                                                    min_samples_split=2,\n",
              "                                                    min_weight_fraction_leaf=0.0,\n",
              "                                                    n_estimators=100,\n",
              "                                                    n_jobs=None,\n",
              "                                                    oob_score=False,\n",
              "                                                    random_state=42, verbose=0,\n",
              "                                                    warm_start=False),\n",
              "                   iid='deprecated', n_iter=10, n_jobs=None,\n",
              "                   param_distributions={'max_depth': range(10, 62, 10)},\n",
              "                   pre_dispatch='2*n_jobs', random_state=None, refit=True,\n",
              "                   return_train_score=True, scoring='roc_auc', verbose=0)"
            ]
          },
          "metadata": {
            "tags": []
          },
          "execution_count": 33
        }
      ]
    },
    {
      "cell_type": "code",
      "metadata": {
        "id": "r1HTCbW1kTRr",
        "colab_type": "code",
        "outputId": "3c24d012-80e4-4ffe-a9af-676d933f01c8",
        "colab": {
          "base_uri": "https://localhost:8080/",
          "height": 235
        }
      },
      "source": [
        "pd.DataFrame(cv1.cv_results_)[['param_max_depth','rank_test_score']]"
      ],
      "execution_count": 0,
      "outputs": [
        {
          "output_type": "execute_result",
          "data": {
            "text/html": [
              "<div>\n",
              "<style scoped>\n",
              "    .dataframe tbody tr th:only-of-type {\n",
              "        vertical-align: middle;\n",
              "    }\n",
              "\n",
              "    .dataframe tbody tr th {\n",
              "        vertical-align: top;\n",
              "    }\n",
              "\n",
              "    .dataframe thead th {\n",
              "        text-align: right;\n",
              "    }\n",
              "</style>\n",
              "<table border=\"1\" class=\"dataframe\">\n",
              "  <thead>\n",
              "    <tr style=\"text-align: right;\">\n",
              "      <th></th>\n",
              "      <th>param_max_depth</th>\n",
              "      <th>rank_test_score</th>\n",
              "    </tr>\n",
              "  </thead>\n",
              "  <tbody>\n",
              "    <tr>\n",
              "      <th>0</th>\n",
              "      <td>10</td>\n",
              "      <td>6</td>\n",
              "    </tr>\n",
              "    <tr>\n",
              "      <th>1</th>\n",
              "      <td>20</td>\n",
              "      <td>5</td>\n",
              "    </tr>\n",
              "    <tr>\n",
              "      <th>2</th>\n",
              "      <td>30</td>\n",
              "      <td>4</td>\n",
              "    </tr>\n",
              "    <tr>\n",
              "      <th>3</th>\n",
              "      <td>40</td>\n",
              "      <td>1</td>\n",
              "    </tr>\n",
              "    <tr>\n",
              "      <th>4</th>\n",
              "      <td>50</td>\n",
              "      <td>2</td>\n",
              "    </tr>\n",
              "    <tr>\n",
              "      <th>5</th>\n",
              "      <td>60</td>\n",
              "      <td>2</td>\n",
              "    </tr>\n",
              "  </tbody>\n",
              "</table>\n",
              "</div>"
            ],
            "text/plain": [
              "  param_max_depth  rank_test_score\n",
              "0              10                6\n",
              "1              20                5\n",
              "2              30                4\n",
              "3              40                1\n",
              "4              50                2\n",
              "5              60                2"
            ]
          },
          "metadata": {
            "tags": []
          },
          "execution_count": 44
        }
      ]
    },
    {
      "cell_type": "code",
      "metadata": {
        "id": "_SqLLL5dk98B",
        "colab_type": "code",
        "outputId": "1f8b8433-dc8e-4ed9-87fc-6b7acc6c73fc",
        "colab": {
          "base_uri": "https://localhost:8080/",
          "height": 34
        }
      },
      "source": [
        "cv1_score=accuracy_score(y_test,cv1.predict(X_test))\n",
        "cv1_roc=roc_auc_score(y_test,cv1.predict(X_test))\n",
        "print('cv1 score:',cv1_score,'cv1 roc:',cv1_roc)"
      ],
      "execution_count": 0,
      "outputs": [
        {
          "output_type": "stream",
          "text": [
            "cv1 score: 0.9091563230796906 cv1 roc: 0.6287469870249756\n"
          ],
          "name": "stdout"
        }
      ]
    },
    {
      "cell_type": "markdown",
      "metadata": {
        "id": "5o0q-El6fJO-",
        "colab_type": "text"
      },
      "source": [
        "### Min samples leaf and min samples split"
      ]
    },
    {
      "cell_type": "code",
      "metadata": {
        "id": "BlApuM3jggcw",
        "colab_type": "code",
        "colab": {}
      },
      "source": [
        "rf2=RandomForestClassifier(random_state=42,max_depth=40)"
      ],
      "execution_count": 0,
      "outputs": []
    },
    {
      "cell_type": "code",
      "metadata": {
        "id": "I5_ztkRe-B1G",
        "colab_type": "code",
        "colab": {}
      },
      "source": [
        "param_test2= {'min_samples_split':range(80,150,20),\n",
        "              'min_samples_leaf':range(10,60,10)}"
      ],
      "execution_count": 0,
      "outputs": []
    },
    {
      "cell_type": "code",
      "metadata": {
        "id": "WC10jzgffsUy",
        "colab_type": "code",
        "colab": {}
      },
      "source": [
        "cv2=RandomizedSearchCV(rf2,\n",
        "                   param_distributions=param_test2,\n",
        "                   n_iter=10,\n",
        "                   scoring='roc_auc',\n",
        "                   refit=True,\n",
        "                   cv=10,\n",
        "                   return_train_score=True)"
      ],
      "execution_count": 0,
      "outputs": []
    },
    {
      "cell_type": "code",
      "metadata": {
        "id": "4PBqhqnDftwL",
        "colab_type": "code",
        "outputId": "d1a38a10-b877-45e8-cd59-2aa52af499d1",
        "colab": {
          "base_uri": "https://localhost:8080/",
          "height": 425
        }
      },
      "source": [
        "cv2.fit(X_res,y_res)"
      ],
      "execution_count": 0,
      "outputs": [
        {
          "output_type": "execute_result",
          "data": {
            "text/plain": [
              "RandomizedSearchCV(cv=10, error_score=nan,\n",
              "                   estimator=RandomForestClassifier(bootstrap=True,\n",
              "                                                    ccp_alpha=0.0,\n",
              "                                                    class_weight=None,\n",
              "                                                    criterion='gini',\n",
              "                                                    max_depth=40,\n",
              "                                                    max_features='auto',\n",
              "                                                    max_leaf_nodes=None,\n",
              "                                                    max_samples=None,\n",
              "                                                    min_impurity_decrease=0.0,\n",
              "                                                    min_impurity_split=None,\n",
              "                                                    min_samples_leaf=1,\n",
              "                                                    min_samples_split=2,\n",
              "                                                    min_weight_fraction_leaf=0.0,\n",
              "                                                    n_estimators=100,\n",
              "                                                    n_jobs=None,\n",
              "                                                    oob_score=False,\n",
              "                                                    random_state=42, verbose=0,\n",
              "                                                    warm_start=False),\n",
              "                   iid='deprecated', n_iter=10, n_jobs=None,\n",
              "                   param_distributions={'min_samples_leaf': range(10, 60, 10),\n",
              "                                        'min_samples_split': range(80, 150, 20)},\n",
              "                   pre_dispatch='2*n_jobs', random_state=None, refit=True,\n",
              "                   return_train_score=True, scoring='roc_auc', verbose=0)"
            ]
          },
          "metadata": {
            "tags": []
          },
          "execution_count": 50
        }
      ]
    },
    {
      "cell_type": "code",
      "metadata": {
        "id": "QautiDmWliFm",
        "colab_type": "code",
        "outputId": "b2ed2e3c-88a2-4a31-b729-f83153d83517",
        "colab": {
          "base_uri": "https://localhost:8080/",
          "height": 359
        }
      },
      "source": [
        "pd.DataFrame(cv2.cv_results_)[['params','rank_test_score']]"
      ],
      "execution_count": 0,
      "outputs": [
        {
          "output_type": "execute_result",
          "data": {
            "text/html": [
              "<div>\n",
              "<style scoped>\n",
              "    .dataframe tbody tr th:only-of-type {\n",
              "        vertical-align: middle;\n",
              "    }\n",
              "\n",
              "    .dataframe tbody tr th {\n",
              "        vertical-align: top;\n",
              "    }\n",
              "\n",
              "    .dataframe thead th {\n",
              "        text-align: right;\n",
              "    }\n",
              "</style>\n",
              "<table border=\"1\" class=\"dataframe\">\n",
              "  <thead>\n",
              "    <tr style=\"text-align: right;\">\n",
              "      <th></th>\n",
              "      <th>params</th>\n",
              "      <th>rank_test_score</th>\n",
              "    </tr>\n",
              "  </thead>\n",
              "  <tbody>\n",
              "    <tr>\n",
              "      <th>0</th>\n",
              "      <td>{'min_samples_split': 100, 'min_samples_leaf':...</td>\n",
              "      <td>2</td>\n",
              "    </tr>\n",
              "    <tr>\n",
              "      <th>1</th>\n",
              "      <td>{'min_samples_split': 140, 'min_samples_leaf':...</td>\n",
              "      <td>10</td>\n",
              "    </tr>\n",
              "    <tr>\n",
              "      <th>2</th>\n",
              "      <td>{'min_samples_split': 140, 'min_samples_leaf':...</td>\n",
              "      <td>8</td>\n",
              "    </tr>\n",
              "    <tr>\n",
              "      <th>3</th>\n",
              "      <td>{'min_samples_split': 80, 'min_samples_leaf': 20}</td>\n",
              "      <td>3</td>\n",
              "    </tr>\n",
              "    <tr>\n",
              "      <th>4</th>\n",
              "      <td>{'min_samples_split': 80, 'min_samples_leaf': 10}</td>\n",
              "      <td>1</td>\n",
              "    </tr>\n",
              "    <tr>\n",
              "      <th>5</th>\n",
              "      <td>{'min_samples_split': 120, 'min_samples_leaf':...</td>\n",
              "      <td>9</td>\n",
              "    </tr>\n",
              "    <tr>\n",
              "      <th>6</th>\n",
              "      <td>{'min_samples_split': 80, 'min_samples_leaf': 50}</td>\n",
              "      <td>7</td>\n",
              "    </tr>\n",
              "    <tr>\n",
              "      <th>7</th>\n",
              "      <td>{'min_samples_split': 100, 'min_samples_leaf':...</td>\n",
              "      <td>6</td>\n",
              "    </tr>\n",
              "    <tr>\n",
              "      <th>8</th>\n",
              "      <td>{'min_samples_split': 80, 'min_samples_leaf': 40}</td>\n",
              "      <td>5</td>\n",
              "    </tr>\n",
              "    <tr>\n",
              "      <th>9</th>\n",
              "      <td>{'min_samples_split': 100, 'min_samples_leaf':...</td>\n",
              "      <td>4</td>\n",
              "    </tr>\n",
              "  </tbody>\n",
              "</table>\n",
              "</div>"
            ],
            "text/plain": [
              "                                              params  rank_test_score\n",
              "0  {'min_samples_split': 100, 'min_samples_leaf':...                2\n",
              "1  {'min_samples_split': 140, 'min_samples_leaf':...               10\n",
              "2  {'min_samples_split': 140, 'min_samples_leaf':...                8\n",
              "3  {'min_samples_split': 80, 'min_samples_leaf': 20}                3\n",
              "4  {'min_samples_split': 80, 'min_samples_leaf': 10}                1\n",
              "5  {'min_samples_split': 120, 'min_samples_leaf':...                9\n",
              "6  {'min_samples_split': 80, 'min_samples_leaf': 50}                7\n",
              "7  {'min_samples_split': 100, 'min_samples_leaf':...                6\n",
              "8  {'min_samples_split': 80, 'min_samples_leaf': 40}                5\n",
              "9  {'min_samples_split': 100, 'min_samples_leaf':...                4"
            ]
          },
          "metadata": {
            "tags": []
          },
          "execution_count": 51
        }
      ]
    },
    {
      "cell_type": "code",
      "metadata": {
        "id": "FhV6-TjDlrV-",
        "colab_type": "code",
        "outputId": "44e01fbf-71c8-4936-fb23-0b4bfa2273f0",
        "colab": {
          "base_uri": "https://localhost:8080/",
          "height": 34
        }
      },
      "source": [
        "cv2_score=accuracy_score(y_test,cv2.predict(X_test))\n",
        "cv2_roc=roc_auc_score(y_test,cv2.predict(X_test))\n",
        "print('cv2 score:',cv2_score,'cv2 roc:',cv2_roc)"
      ],
      "execution_count": 0,
      "outputs": [
        {
          "output_type": "stream",
          "text": [
            "cv2 score: 0.8938658032020147 cv2 roc: 0.6933496589568695\n"
          ],
          "name": "stdout"
        }
      ]
    },
    {
      "cell_type": "markdown",
      "metadata": {
        "id": "Hhvc1YRufQYH",
        "colab_type": "text"
      },
      "source": [
        "### Criterion and n_estimators "
      ]
    },
    {
      "cell_type": "code",
      "metadata": {
        "id": "RnILadKkgoKv",
        "colab_type": "code",
        "colab": {}
      },
      "source": [
        "rf3=RandomForestClassifier(random_state=42,\n",
        "                           max_depth=40,\n",
        "                           min_samples_split=80,\n",
        "                           min_samples_leaf=10)"
      ],
      "execution_count": 0,
      "outputs": []
    },
    {
      "cell_type": "code",
      "metadata": {
        "id": "kGjI8nRsve11",
        "colab_type": "code",
        "outputId": "3537758d-6d75-48c3-84ca-613dd11ffd36",
        "colab": {
          "base_uri": "https://localhost:8080/",
          "height": 153
        }
      },
      "source": [
        "rf3.fit(X_res,y_res)"
      ],
      "execution_count": 0,
      "outputs": [
        {
          "output_type": "execute_result",
          "data": {
            "text/plain": [
              "RandomForestClassifier(bootstrap=True, ccp_alpha=0.0, class_weight=None,\n",
              "                       criterion='gini', max_depth=40, max_features='auto',\n",
              "                       max_leaf_nodes=None, max_samples=None,\n",
              "                       min_impurity_decrease=0.0, min_impurity_split=None,\n",
              "                       min_samples_leaf=10, min_samples_split=80,\n",
              "                       min_weight_fraction_leaf=0.0, n_estimators=100,\n",
              "                       n_jobs=None, oob_score=False, random_state=42, verbose=0,\n",
              "                       warm_start=False)"
            ]
          },
          "metadata": {
            "tags": []
          },
          "execution_count": 77
        }
      ]
    },
    {
      "cell_type": "code",
      "metadata": {
        "id": "YyOgCfe5aYwj",
        "colab_type": "code",
        "colab": {}
      },
      "source": [
        "param_test3={'criterion':('gini','entropy'),\n",
        "    'n_estimators':range(1,100,10)}"
      ],
      "execution_count": 0,
      "outputs": []
    },
    {
      "cell_type": "code",
      "metadata": {
        "id": "tUWN-wDJbGiq",
        "colab_type": "code",
        "colab": {}
      },
      "source": [
        "cv3=RandomizedSearchCV(rf3,\n",
        "                          param_distributions=param_test3,\n",
        "                          n_iter=10,\n",
        "                          scoring='roc_auc',\n",
        "                          refit=True,\n",
        "                          cv=10,\n",
        "                          return_train_score=True\n",
        "                          )"
      ],
      "execution_count": 0,
      "outputs": []
    },
    {
      "cell_type": "code",
      "metadata": {
        "id": "cglVOexwbf_2",
        "colab_type": "code",
        "outputId": "e1e4f26c-17e3-4179-fced-4af34f3ca40c",
        "colab": {
          "base_uri": "https://localhost:8080/",
          "height": 425
        }
      },
      "source": [
        "cv3.fit(X_res,y_res)"
      ],
      "execution_count": 0,
      "outputs": [
        {
          "output_type": "execute_result",
          "data": {
            "text/plain": [
              "RandomizedSearchCV(cv=10, error_score=nan,\n",
              "                   estimator=RandomForestClassifier(bootstrap=True,\n",
              "                                                    ccp_alpha=0.0,\n",
              "                                                    class_weight=None,\n",
              "                                                    criterion='gini',\n",
              "                                                    max_depth=40,\n",
              "                                                    max_features='auto',\n",
              "                                                    max_leaf_nodes=None,\n",
              "                                                    max_samples=None,\n",
              "                                                    min_impurity_decrease=0.0,\n",
              "                                                    min_impurity_split=None,\n",
              "                                                    min_samples_leaf=10,\n",
              "                                                    min_samples_split=80,\n",
              "                                                    min_weight_fraction_leaf=0.0,\n",
              "                                                    n_estimators=100,\n",
              "                                                    n_jobs=None,\n",
              "                                                    oob_score=False,\n",
              "                                                    random_state=42, verbose=0,\n",
              "                                                    warm_start=False),\n",
              "                   iid='deprecated', n_iter=10, n_jobs=None,\n",
              "                   param_distributions={'criterion': ('gini', 'entropy'),\n",
              "                                        'n_estimators': range(1, 100, 10)},\n",
              "                   pre_dispatch='2*n_jobs', random_state=None, refit=True,\n",
              "                   return_train_score=True, scoring='roc_auc', verbose=0)"
            ]
          },
          "metadata": {
            "tags": []
          },
          "execution_count": 57
        }
      ]
    },
    {
      "cell_type": "code",
      "metadata": {
        "id": "Lg2uyZV1q6dG",
        "colab_type": "code",
        "outputId": "82b54886-3637-48df-af42-37bfb44762c0",
        "colab": {
          "base_uri": "https://localhost:8080/",
          "height": 359
        }
      },
      "source": [
        "pd.DataFrame(cv3.cv_results_)[['params','rank_test_score']]"
      ],
      "execution_count": 0,
      "outputs": [
        {
          "output_type": "execute_result",
          "data": {
            "text/html": [
              "<div>\n",
              "<style scoped>\n",
              "    .dataframe tbody tr th:only-of-type {\n",
              "        vertical-align: middle;\n",
              "    }\n",
              "\n",
              "    .dataframe tbody tr th {\n",
              "        vertical-align: top;\n",
              "    }\n",
              "\n",
              "    .dataframe thead th {\n",
              "        text-align: right;\n",
              "    }\n",
              "</style>\n",
              "<table border=\"1\" class=\"dataframe\">\n",
              "  <thead>\n",
              "    <tr style=\"text-align: right;\">\n",
              "      <th></th>\n",
              "      <th>params</th>\n",
              "      <th>rank_test_score</th>\n",
              "    </tr>\n",
              "  </thead>\n",
              "  <tbody>\n",
              "    <tr>\n",
              "      <th>0</th>\n",
              "      <td>{'n_estimators': 61, 'criterion': 'gini'}</td>\n",
              "      <td>5</td>\n",
              "    </tr>\n",
              "    <tr>\n",
              "      <th>1</th>\n",
              "      <td>{'n_estimators': 41, 'criterion': 'entropy'}</td>\n",
              "      <td>3</td>\n",
              "    </tr>\n",
              "    <tr>\n",
              "      <th>2</th>\n",
              "      <td>{'n_estimators': 1, 'criterion': 'entropy'}</td>\n",
              "      <td>10</td>\n",
              "    </tr>\n",
              "    <tr>\n",
              "      <th>3</th>\n",
              "      <td>{'n_estimators': 71, 'criterion': 'entropy'}</td>\n",
              "      <td>1</td>\n",
              "    </tr>\n",
              "    <tr>\n",
              "      <th>4</th>\n",
              "      <td>{'n_estimators': 31, 'criterion': 'gini'}</td>\n",
              "      <td>7</td>\n",
              "    </tr>\n",
              "    <tr>\n",
              "      <th>5</th>\n",
              "      <td>{'n_estimators': 61, 'criterion': 'entropy'}</td>\n",
              "      <td>2</td>\n",
              "    </tr>\n",
              "    <tr>\n",
              "      <th>6</th>\n",
              "      <td>{'n_estimators': 41, 'criterion': 'gini'}</td>\n",
              "      <td>6</td>\n",
              "    </tr>\n",
              "    <tr>\n",
              "      <th>7</th>\n",
              "      <td>{'n_estimators': 11, 'criterion': 'entropy'}</td>\n",
              "      <td>8</td>\n",
              "    </tr>\n",
              "    <tr>\n",
              "      <th>8</th>\n",
              "      <td>{'n_estimators': 71, 'criterion': 'gini'}</td>\n",
              "      <td>4</td>\n",
              "    </tr>\n",
              "    <tr>\n",
              "      <th>9</th>\n",
              "      <td>{'n_estimators': 11, 'criterion': 'gini'}</td>\n",
              "      <td>9</td>\n",
              "    </tr>\n",
              "  </tbody>\n",
              "</table>\n",
              "</div>"
            ],
            "text/plain": [
              "                                         params  rank_test_score\n",
              "0     {'n_estimators': 61, 'criterion': 'gini'}                5\n",
              "1  {'n_estimators': 41, 'criterion': 'entropy'}                3\n",
              "2   {'n_estimators': 1, 'criterion': 'entropy'}               10\n",
              "3  {'n_estimators': 71, 'criterion': 'entropy'}                1\n",
              "4     {'n_estimators': 31, 'criterion': 'gini'}                7\n",
              "5  {'n_estimators': 61, 'criterion': 'entropy'}                2\n",
              "6     {'n_estimators': 41, 'criterion': 'gini'}                6\n",
              "7  {'n_estimators': 11, 'criterion': 'entropy'}                8\n",
              "8     {'n_estimators': 71, 'criterion': 'gini'}                4\n",
              "9     {'n_estimators': 11, 'criterion': 'gini'}                9"
            ]
          },
          "metadata": {
            "tags": []
          },
          "execution_count": 58
        }
      ]
    },
    {
      "cell_type": "code",
      "metadata": {
        "id": "6YOoL4RSq7tF",
        "colab_type": "code",
        "outputId": "a3c7d660-fbd9-41a9-bdb2-c02cbaced51a",
        "colab": {
          "base_uri": "https://localhost:8080/",
          "height": 34
        }
      },
      "source": [
        "cv3_score=accuracy_score(y_test,cv3.predict(X_test))\n",
        "cv3_roc=roc_auc_score(y_test,cv3.predict(X_test))\n",
        "print('cv3 score:',cv3_score,'cv3 roc:',cv3_roc)"
      ],
      "execution_count": 0,
      "outputs": [
        {
          "output_type": "stream",
          "text": [
            "cv3 score: 0.8962043533009534 cv3 roc: 0.6912437817323966\n"
          ],
          "name": "stdout"
        }
      ]
    },
    {
      "cell_type": "markdown",
      "metadata": {
        "id": "u72ZotG3g5IP",
        "colab_type": "text"
      },
      "source": [
        "## Visualiza final model ROC curve "
      ]
    },
    {
      "cell_type": "code",
      "metadata": {
        "id": "ZZCHb1wkYT1F",
        "colab_type": "code",
        "colab": {}
      },
      "source": [
        "def plot_roc_curve(fpr, tpr):\n",
        "    plt.plot(fpr, tpr, color='orange', label='ROC')\n",
        "    plt.plot([0, 1], [0, 1], color='darkblue', linestyle='--')\n",
        "    plt.xlabel('False Positive Rate')\n",
        "    plt.ylabel('True Positive Rate')\n",
        "    plt.title('Receiver Operating Characteristic (ROC) Curve')\n",
        "    plt.legend()\n",
        "    plt.show()"
      ],
      "execution_count": 0,
      "outputs": []
    },
    {
      "cell_type": "code",
      "metadata": {
        "id": "RFtd4T8KYCci",
        "colab_type": "code",
        "outputId": "87f40b73-1453-42e1-b4a3-4957c953e84c",
        "colab": {
          "base_uri": "https://localhost:8080/",
          "height": 316
        }
      },
      "source": [
        "fpr, tpr, thresholds = roc_curve(y_test,cv2.predict(X_test))\n",
        "plot_roc_curve(fpr, tpr)\n",
        "print(\"AUC-ROC :\",auc)"
      ],
      "execution_count": 0,
      "outputs": [
        {
          "output_type": "display_data",
          "data": {
            "image/png": "[encoded data removed]",
            "text/plain": [
              "<Figure size 432x288 with 1 Axes>"
            ]
          },
          "metadata": {
            "tags": []
          }
        },
        {
          "output_type": "stream",
          "text": [
            "AUC-ROC : <function auc at 0x7f68cdf8d0d0>\n"
          ],
          "name": "stdout"
        }
      ]
    },
    {
      "cell_type": "markdown",
      "metadata": {
        "id": "OymJCKh-hExg",
        "colab_type": "text"
      },
      "source": [
        "## Visualize the feature importances"
      ]
    },
    {
      "cell_type": "code",
      "metadata": {
        "id": "57VNiE2Ecpau",
        "colab_type": "code",
        "colab": {}
      },
      "source": [
        "importances = pd.Series(data=rf3.feature_importances_,\n",
        "                        index= X_train.columns)"
      ],
      "execution_count": 0,
      "outputs": []
    },
    {
      "cell_type": "code",
      "metadata": {
        "id": "9zH75BGVQUGw",
        "colab_type": "code",
        "outputId": "7a35fadb-f377-456c-9525-aec31788cf7e",
        "colab": {
          "base_uri": "https://localhost:8080/",
          "height": 544
        }
      },
      "source": [
        "# Sort importances\n",
        "importances_sorted = importances.sort_values().tail(30)\n",
        "importances_sorted"
      ],
      "execution_count": 0,
      "outputs": [
        {
          "output_type": "execute_result",
          "data": {
            "text/plain": [
              "PC6                                           0.006582\n",
              "solid_tumor_with_metastasis                   0.006936\n",
              "PC14                                          0.006973\n",
              "PC22                                          0.007057\n",
              "PC3                                           0.007784\n",
              "PC15                                          0.007825\n",
              "PC9                                           0.008107\n",
              "PC17                                          0.009047\n",
              "PC21                                          0.009431\n",
              "PC16                                          0.009811\n",
              "PC12                                          0.011661\n",
              "PC7                                           0.012087\n",
              "apache_2_bodysystem_Metabolic                 0.014972\n",
              "apache_3j_bodysystem_Metabolic                0.015023\n",
              "apache_3j_bodysystem_Neurological             0.015278\n",
              "apache_2_bodysystem_Neurologic                0.016257\n",
              "apache_3j_bodysystem_Gastrointestinal         0.017249\n",
              "apache_2_bodysystem_Gastrointestinal          0.018856\n",
              "apache_3j_bodysystem_Respiratory              0.021143\n",
              "PC10                                          0.021693\n",
              "apache_post_operative                         0.023975\n",
              "apache_2_bodysystem_Respiratory               0.024307\n",
              "elective_surgery                              0.030798\n",
              "icu_admit_source_Operating Room / Recovery    0.032085\n",
              "PC1                                           0.036525\n",
              "icu_admit_source_Floor                        0.046302\n",
              "PC2                                           0.068387\n",
              "apache_3j_bodysystem_Sepsis                   0.069318\n",
              "intubated_apache                              0.128053\n",
              "ventilated_apache                             0.199986\n",
              "dtype: float64"
            ]
          },
          "metadata": {
            "tags": []
          },
          "execution_count": 79
        }
      ]
    },
    {
      "cell_type": "code",
      "metadata": {
        "id": "PWkYDC67QW-Y",
        "colab_type": "code",
        "outputId": "6f1a02fd-aec2-4f82-c6a3-97914b271113",
        "colab": {
          "base_uri": "https://localhost:8080/",
          "height": 282
        }
      },
      "source": [
        "# Draw a horizontal barplot of importances_sorted\n",
        "plt.style.use('ggplot')\n",
        "importances_sorted.plot(kind='barh', color='green')\n",
        "plt.title('Features Importances')\n",
        "plt.show()"
      ],
      "execution_count": 0,
      "outputs": [
        {
          "output_type": "display_data",
          "data": {
            "image/png": "[encoded data removed]",
            "text/plain": [
              "<Figure size 432x288 with 1 Axes>"
            ]
          },
          "metadata": {
            "tags": []
          }
        }
      ]
    },
    {
      "cell_type": "markdown",
      "metadata": {
        "id": "iR-JLSEATk7Y",
        "colab_type": "text"
      },
      "source": [
        "# Summary "
      ]
    },
    {
      "cell_type": "code",
      "metadata": {
        "id": "89NzWPYQTkHh",
        "colab_type": "code",
        "colab": {}
      },
      "source": [
        "summary_algorithm=pd.DataFrame({'accuracy':[log_score,rf_score,xgb_score,gb_score,knn_score],\n",
        "              'roc_score':[log_roc,rf_roc,xgb_roc,gb_roc,knn_roc]},\n",
        "             index=['Logistic Regression','Random Forest','xgboost','gradient boost','knn'])"
      ],
      "execution_count": 0,
      "outputs": []
    },
    {
      "cell_type": "code",
      "metadata": {
        "id": "yQDE3GwFgj3n",
        "colab_type": "code",
        "outputId": "5d46a9a9-357f-4fd8-d416-58c2411ae868",
        "colab": {
          "base_uri": "https://localhost:8080/",
          "height": 204
        }
      },
      "source": [
        "summary_algorithm.sort_values(by='roc_score',ascending=False)"
      ],
      "execution_count": 0,
      "outputs": [
        {
          "output_type": "execute_result",
          "data": {
            "text/html": [
              "<div>\n",
              "<style scoped>\n",
              "    .dataframe tbody tr th:only-of-type {\n",
              "        vertical-align: middle;\n",
              "    }\n",
              "\n",
              "    .dataframe tbody tr th {\n",
              "        vertical-align: top;\n",
              "    }\n",
              "\n",
              "    .dataframe thead th {\n",
              "        text-align: right;\n",
              "    }\n",
              "</style>\n",
              "<table border=\"1\" class=\"dataframe\">\n",
              "  <thead>\n",
              "    <tr style=\"text-align: right;\">\n",
              "      <th></th>\n",
              "      <th>accuracy</th>\n",
              "      <th>roc_score</th>\n",
              "    </tr>\n",
              "  </thead>\n",
              "  <tbody>\n",
              "    <tr>\n",
              "      <th>Logistic Regression</th>\n",
              "      <td>0.790610</td>\n",
              "      <td>0.778165</td>\n",
              "    </tr>\n",
              "    <tr>\n",
              "      <th>knn</th>\n",
              "      <td>0.731966</td>\n",
              "      <td>0.733031</td>\n",
              "    </tr>\n",
              "    <tr>\n",
              "      <th>Random Forest</th>\n",
              "      <td>0.893326</td>\n",
              "      <td>0.689654</td>\n",
              "    </tr>\n",
              "    <tr>\n",
              "      <th>gradient boost</th>\n",
              "      <td>0.893326</td>\n",
              "      <td>0.689654</td>\n",
              "    </tr>\n",
              "    <tr>\n",
              "      <th>xgboost</th>\n",
              "      <td>0.916352</td>\n",
              "      <td>0.591950</td>\n",
              "    </tr>\n",
              "  </tbody>\n",
              "</table>\n",
              "</div>"
            ],
            "text/plain": [
              "                     accuracy  roc_score\n",
              "Logistic Regression  0.790610   0.778165\n",
              "knn                  0.731966   0.733031\n",
              "Random Forest        0.893326   0.689654\n",
              "gradient boost       0.893326   0.689654\n",
              "xgboost              0.916352   0.591950"
            ]
          },
          "metadata": {
            "tags": []
          },
          "execution_count": 86
        }
      ]
    },
    {
      "cell_type": "code",
      "metadata": {
        "id": "mWS6xZ15hiup",
        "colab_type": "code",
        "colab": {}
      },
      "source": [
        "summary_rf=pd.DataFrame({'accuracy':[rf_score,cv1_score,cv2_score,cv3_score],\n",
        "                         'roc_score':[rf_roc,cv1_roc,cv2_roc,cv3_roc]},\n",
        "                         index=['rf','cv1','cv2','cv3'])"
      ],
      "execution_count": 0,
      "outputs": []
    },
    {
      "cell_type": "code",
      "metadata": {
        "id": "00WJzkTZuOk5",
        "colab_type": "code",
        "outputId": "d7001f01-5422-4e0c-f076-462f91eb1260",
        "colab": {
          "base_uri": "https://localhost:8080/",
          "height": 173
        }
      },
      "source": [
        "summary_rf.sort_values(by='roc_score',ascending=False)"
      ],
      "execution_count": 0,
      "outputs": [
        {
          "output_type": "execute_result",
          "data": {
            "text/html": [
              "<div>\n",
              "<style scoped>\n",
              "    .dataframe tbody tr th:only-of-type {\n",
              "        vertical-align: middle;\n",
              "    }\n",
              "\n",
              "    .dataframe tbody tr th {\n",
              "        vertical-align: top;\n",
              "    }\n",
              "\n",
              "    .dataframe thead th {\n",
              "        text-align: right;\n",
              "    }\n",
              "</style>\n",
              "<table border=\"1\" class=\"dataframe\">\n",
              "  <thead>\n",
              "    <tr style=\"text-align: right;\">\n",
              "      <th></th>\n",
              "      <th>accuracy</th>\n",
              "      <th>roc_score</th>\n",
              "    </tr>\n",
              "  </thead>\n",
              "  <tbody>\n",
              "    <tr>\n",
              "      <th>cv2</th>\n",
              "      <td>0.893866</td>\n",
              "      <td>0.693350</td>\n",
              "    </tr>\n",
              "    <tr>\n",
              "      <th>cv3</th>\n",
              "      <td>0.896204</td>\n",
              "      <td>0.691244</td>\n",
              "    </tr>\n",
              "    <tr>\n",
              "      <th>rf</th>\n",
              "      <td>0.893326</td>\n",
              "      <td>0.689654</td>\n",
              "    </tr>\n",
              "    <tr>\n",
              "      <th>cv1</th>\n",
              "      <td>0.909156</td>\n",
              "      <td>0.628747</td>\n",
              "    </tr>\n",
              "  </tbody>\n",
              "</table>\n",
              "</div>"
            ],
            "text/plain": [
              "     accuracy  roc_score\n",
              "cv2  0.893866   0.693350\n",
              "cv3  0.896204   0.691244\n",
              "rf   0.893326   0.689654\n",
              "cv1  0.909156   0.628747"
            ]
          },
          "metadata": {
            "tags": []
          },
          "execution_count": 65
        }
      ]
    },
    {
      "cell_type": "markdown",
      "metadata": {
        "id": "WD4znh21m2lF",
        "colab_type": "text"
      },
      "source": [
        "# Test "
      ]
    },
    {
      "cell_type": "code",
      "metadata": {
        "id": "-WoQ07l5FIBG",
        "colab_type": "code",
        "outputId": "c0ed9365-5026-48a2-d5c2-1d9302a1425d",
        "colab": {
          "base_uri": "https://localhost:8080/",
          "height": 657
        }
      },
      "source": [
        "unlabel=pd.read_csv('/content/drive/My Drive/widsdatathon2020/unlabel_clean.csv')\n",
        "unlabel.set_index('encounter_id',drop=True,inplace=True)\n",
        "unlabel_X=unlabel.drop(columns='hospital_death')\n",
        "unlabel_X"
      ],
      "execution_count": 0,
      "outputs": [
        {
          "output_type": "execute_result",
          "data": {
            "text/html": [
              "<div>\n",
              "<style scoped>\n",
              "    .dataframe tbody tr th:only-of-type {\n",
              "        vertical-align: middle;\n",
              "    }\n",
              "\n",
              "    .dataframe tbody tr th {\n",
              "        vertical-align: top;\n",
              "    }\n",
              "\n",
              "    .dataframe thead th {\n",
              "        text-align: right;\n",
              "    }\n",
              "</style>\n",
              "<table border=\"1\" class=\"dataframe\">\n",
              "  <thead>\n",
              "    <tr style=\"text-align: right;\">\n",
              "      <th></th>\n",
              "      <th>apache_post_operative</th>\n",
              "      <th>arf_apache</th>\n",
              "      <th>intubated_apache</th>\n",
              "      <th>ventilated_apache</th>\n",
              "      <th>cirrhosis</th>\n",
              "      <th>hepatic_failure</th>\n",
              "      <th>immunosuppression</th>\n",
              "      <th>leukemia</th>\n",
              "      <th>lymphoma</th>\n",
              "      <th>solid_tumor_with_metastasis</th>\n",
              "      <th>elective_surgery</th>\n",
              "      <th>PC1</th>\n",
              "      <th>PC2</th>\n",
              "      <th>PC3</th>\n",
              "      <th>PC4</th>\n",
              "      <th>PC5</th>\n",
              "      <th>PC6</th>\n",
              "      <th>PC7</th>\n",
              "      <th>PC8</th>\n",
              "      <th>PC9</th>\n",
              "      <th>PC10</th>\n",
              "      <th>PC11</th>\n",
              "      <th>PC12</th>\n",
              "      <th>PC13</th>\n",
              "      <th>PC14</th>\n",
              "      <th>PC15</th>\n",
              "      <th>PC16</th>\n",
              "      <th>PC17</th>\n",
              "      <th>PC18</th>\n",
              "      <th>PC19</th>\n",
              "      <th>PC20</th>\n",
              "      <th>PC21</th>\n",
              "      <th>PC22</th>\n",
              "      <th>PC23</th>\n",
              "      <th>PC24</th>\n",
              "      <th>PC25</th>\n",
              "      <th>PC26</th>\n",
              "      <th>icu_admit_source_Floor</th>\n",
              "      <th>icu_admit_source_Operating Room / Recovery</th>\n",
              "      <th>icu_admit_source_Other Hospital</th>\n",
              "      <th>icu_admit_source_Other ICU</th>\n",
              "      <th>apache_3j_bodysystem_Gastrointestinal</th>\n",
              "      <th>apache_3j_bodysystem_Genitourinary</th>\n",
              "      <th>apache_3j_bodysystem_Gynecological</th>\n",
              "      <th>apache_3j_bodysystem_Hematological</th>\n",
              "      <th>apache_3j_bodysystem_Metabolic</th>\n",
              "      <th>apache_3j_bodysystem_Musculoskeletal/Skin</th>\n",
              "      <th>apache_3j_bodysystem_Neurological</th>\n",
              "      <th>apache_3j_bodysystem_Respiratory</th>\n",
              "      <th>apache_3j_bodysystem_Sepsis</th>\n",
              "      <th>apache_3j_bodysystem_Trauma</th>\n",
              "      <th>apache_2_bodysystem_Gastrointestinal</th>\n",
              "      <th>apache_2_bodysystem_Haematologic</th>\n",
              "      <th>apache_2_bodysystem_Metabolic</th>\n",
              "      <th>apache_2_bodysystem_Neurologic</th>\n",
              "      <th>apache_2_bodysystem_Renal/Genitourinary</th>\n",
              "      <th>apache_2_bodysystem_Respiratory</th>\n",
              "      <th>apache_2_bodysystem_Trauma</th>\n",
              "      <th>apache_2_bodysystem_Undefined Diagnoses</th>\n",
              "      <th>apache_2_bodysystem_Undefined diagnoses</th>\n",
              "    </tr>\n",
              "    <tr>\n",
              "      <th>encounter_id</th>\n",
              "      <th></th>\n",
              "      <th></th>\n",
              "      <th></th>\n",
              "      <th></th>\n",
              "      <th></th>\n",
              "      <th></th>\n",
              "      <th></th>\n",
              "      <th></th>\n",
              "      <th></th>\n",
              "      <th></th>\n",
              "      <th></th>\n",
              "      <th></th>\n",
              "      <th></th>\n",
              "      <th></th>\n",
              "      <th></th>\n",
              "      <th></th>\n",
              "      <th></th>\n",
              "      <th></th>\n",
              "      <th></th>\n",
              "      <th></th>\n",
              "      <th></th>\n",
              "      <th></th>\n",
              "      <th></th>\n",
              "      <th></th>\n",
              "      <th></th>\n",
              "      <th></th>\n",
              "      <th></th>\n",
              "      <th></th>\n",
              "      <th></th>\n",
              "      <th></th>\n",
              "      <th></th>\n",
              "      <th></th>\n",
              "      <th></th>\n",
              "      <th></th>\n",
              "      <th></th>\n",
              "      <th></th>\n",
              "      <th></th>\n",
              "      <th></th>\n",
              "      <th></th>\n",
              "      <th></th>\n",
              "      <th></th>\n",
              "      <th></th>\n",
              "      <th></th>\n",
              "      <th></th>\n",
              "      <th></th>\n",
              "      <th></th>\n",
              "      <th></th>\n",
              "      <th></th>\n",
              "      <th></th>\n",
              "      <th></th>\n",
              "      <th></th>\n",
              "      <th></th>\n",
              "      <th></th>\n",
              "      <th></th>\n",
              "      <th></th>\n",
              "      <th></th>\n",
              "      <th></th>\n",
              "      <th></th>\n",
              "      <th></th>\n",
              "      <th></th>\n",
              "    </tr>\n",
              "  </thead>\n",
              "  <tbody>\n",
              "    <tr>\n",
              "      <th>2</th>\n",
              "      <td>0</td>\n",
              "      <td>0.0</td>\n",
              "      <td>0.0</td>\n",
              "      <td>0.0</td>\n",
              "      <td>0.0</td>\n",
              "      <td>0.0</td>\n",
              "      <td>0.0</td>\n",
              "      <td>0.0</td>\n",
              "      <td>0.0</td>\n",
              "      <td>0.0</td>\n",
              "      <td>0</td>\n",
              "      <td>2.773561</td>\n",
              "      <td>1.571725e-13</td>\n",
              "      <td>-6.755196e-15</td>\n",
              "      <td>5.791781e-15</td>\n",
              "      <td>3.002813e-15</td>\n",
              "      <td>-2.856862e-16</td>\n",
              "      <td>4.857445e-15</td>\n",
              "      <td>6.702211e-15</td>\n",
              "      <td>-2.105768e-15</td>\n",
              "      <td>-1.562679e-14</td>\n",
              "      <td>1.223783e-15</td>\n",
              "      <td>8.180958e-15</td>\n",
              "      <td>-5.251765e-15</td>\n",
              "      <td>2.090666e-14</td>\n",
              "      <td>7.676531e-16</td>\n",
              "      <td>1.593767e-14</td>\n",
              "      <td>8.724164e-15</td>\n",
              "      <td>3.625827e-15</td>\n",
              "      <td>9.267746e-15</td>\n",
              "      <td>-9.148908e-16</td>\n",
              "      <td>-1.206024e-14</td>\n",
              "      <td>7.135710e-15</td>\n",
              "      <td>-4.910392e-15</td>\n",
              "      <td>2.891148e-15</td>\n",
              "      <td>8.015136e-15</td>\n",
              "      <td>-1.168297e-14</td>\n",
              "      <td>0</td>\n",
              "      <td>0</td>\n",
              "      <td>0</td>\n",
              "      <td>0</td>\n",
              "      <td>0</td>\n",
              "      <td>0</td>\n",
              "      <td>0</td>\n",
              "      <td>0</td>\n",
              "      <td>0</td>\n",
              "      <td>0</td>\n",
              "      <td>1</td>\n",
              "      <td>0</td>\n",
              "      <td>0</td>\n",
              "      <td>0</td>\n",
              "      <td>0</td>\n",
              "      <td>0</td>\n",
              "      <td>0</td>\n",
              "      <td>1</td>\n",
              "      <td>0</td>\n",
              "      <td>0</td>\n",
              "      <td>0</td>\n",
              "      <td>0</td>\n",
              "      <td>0</td>\n",
              "    </tr>\n",
              "    <tr>\n",
              "      <th>5</th>\n",
              "      <td>1</td>\n",
              "      <td>0.0</td>\n",
              "      <td>0.0</td>\n",
              "      <td>0.0</td>\n",
              "      <td>0.0</td>\n",
              "      <td>0.0</td>\n",
              "      <td>0.0</td>\n",
              "      <td>0.0</td>\n",
              "      <td>0.0</td>\n",
              "      <td>0.0</td>\n",
              "      <td>1</td>\n",
              "      <td>-0.831855</td>\n",
              "      <td>6.917646e-15</td>\n",
              "      <td>4.727516e-14</td>\n",
              "      <td>3.707327e-14</td>\n",
              "      <td>8.068556e-15</td>\n",
              "      <td>-1.096666e-15</td>\n",
              "      <td>-8.098597e-15</td>\n",
              "      <td>-1.551373e-14</td>\n",
              "      <td>-5.448213e-15</td>\n",
              "      <td>-2.958411e-15</td>\n",
              "      <td>4.041300e-15</td>\n",
              "      <td>-6.054973e-16</td>\n",
              "      <td>-3.555521e-15</td>\n",
              "      <td>8.276569e-15</td>\n",
              "      <td>5.968675e-15</td>\n",
              "      <td>-1.942744e-14</td>\n",
              "      <td>2.208522e-14</td>\n",
              "      <td>1.810026e-14</td>\n",
              "      <td>2.857952e-16</td>\n",
              "      <td>2.517104e-14</td>\n",
              "      <td>5.207924e-15</td>\n",
              "      <td>2.057945e-14</td>\n",
              "      <td>-9.689375e-15</td>\n",
              "      <td>8.905534e-15</td>\n",
              "      <td>5.949300e-15</td>\n",
              "      <td>1.834060e-14</td>\n",
              "      <td>0</td>\n",
              "      <td>1</td>\n",
              "      <td>0</td>\n",
              "      <td>0</td>\n",
              "      <td>0</td>\n",
              "      <td>0</td>\n",
              "      <td>0</td>\n",
              "      <td>0</td>\n",
              "      <td>0</td>\n",
              "      <td>0</td>\n",
              "      <td>1</td>\n",
              "      <td>0</td>\n",
              "      <td>0</td>\n",
              "      <td>0</td>\n",
              "      <td>0</td>\n",
              "      <td>0</td>\n",
              "      <td>0</td>\n",
              "      <td>1</td>\n",
              "      <td>0</td>\n",
              "      <td>0</td>\n",
              "      <td>0</td>\n",
              "      <td>0</td>\n",
              "      <td>0</td>\n",
              "    </tr>\n",
              "    <tr>\n",
              "      <th>7</th>\n",
              "      <td>1</td>\n",
              "      <td>0.0</td>\n",
              "      <td>0.0</td>\n",
              "      <td>0.0</td>\n",
              "      <td>0.0</td>\n",
              "      <td>0.0</td>\n",
              "      <td>0.0</td>\n",
              "      <td>0.0</td>\n",
              "      <td>0.0</td>\n",
              "      <td>0.0</td>\n",
              "      <td>1</td>\n",
              "      <td>-2.377033</td>\n",
              "      <td>1.416205e-15</td>\n",
              "      <td>-9.110064e-15</td>\n",
              "      <td>2.336342e-15</td>\n",
              "      <td>-1.742633e-14</td>\n",
              "      <td>-9.881124e-15</td>\n",
              "      <td>6.799239e-15</td>\n",
              "      <td>-4.742557e-16</td>\n",
              "      <td>2.000639e-15</td>\n",
              "      <td>-1.495705e-14</td>\n",
              "      <td>4.282966e-15</td>\n",
              "      <td>2.655373e-15</td>\n",
              "      <td>-4.637523e-15</td>\n",
              "      <td>1.428742e-14</td>\n",
              "      <td>3.165729e-15</td>\n",
              "      <td>-1.678931e-14</td>\n",
              "      <td>2.808824e-14</td>\n",
              "      <td>1.471638e-14</td>\n",
              "      <td>1.818662e-14</td>\n",
              "      <td>-2.156527e-14</td>\n",
              "      <td>-5.010015e-15</td>\n",
              "      <td>8.597034e-14</td>\n",
              "      <td>3.036898e-14</td>\n",
              "      <td>3.247860e-15</td>\n",
              "      <td>-1.505271e-14</td>\n",
              "      <td>1.540096e-14</td>\n",
              "      <td>0</td>\n",
              "      <td>1</td>\n",
              "      <td>0</td>\n",
              "      <td>0</td>\n",
              "      <td>0</td>\n",
              "      <td>0</td>\n",
              "      <td>0</td>\n",
              "      <td>0</td>\n",
              "      <td>0</td>\n",
              "      <td>0</td>\n",
              "      <td>0</td>\n",
              "      <td>0</td>\n",
              "      <td>0</td>\n",
              "      <td>0</td>\n",
              "      <td>0</td>\n",
              "      <td>0</td>\n",
              "      <td>0</td>\n",
              "      <td>0</td>\n",
              "      <td>0</td>\n",
              "      <td>0</td>\n",
              "      <td>0</td>\n",
              "      <td>0</td>\n",
              "      <td>0</td>\n",
              "    </tr>\n",
              "    <tr>\n",
              "      <th>8</th>\n",
              "      <td>0</td>\n",
              "      <td>0.0</td>\n",
              "      <td>1.0</td>\n",
              "      <td>1.0</td>\n",
              "      <td>0.0</td>\n",
              "      <td>0.0</td>\n",
              "      <td>1.0</td>\n",
              "      <td>0.0</td>\n",
              "      <td>0.0</td>\n",
              "      <td>0.0</td>\n",
              "      <td>0</td>\n",
              "      <td>-1.346914</td>\n",
              "      <td>-1.097668e-15</td>\n",
              "      <td>1.128389e-15</td>\n",
              "      <td>-1.306359e-15</td>\n",
              "      <td>1.332072e-15</td>\n",
              "      <td>-1.093659e-15</td>\n",
              "      <td>-5.050938e-15</td>\n",
              "      <td>-2.595045e-15</td>\n",
              "      <td>3.407709e-16</td>\n",
              "      <td>3.200795e-15</td>\n",
              "      <td>3.564878e-16</td>\n",
              "      <td>-6.676909e-16</td>\n",
              "      <td>1.301108e-16</td>\n",
              "      <td>7.553708e-17</td>\n",
              "      <td>-3.894055e-15</td>\n",
              "      <td>-1.331228e-14</td>\n",
              "      <td>-2.104086e-14</td>\n",
              "      <td>-1.539868e-14</td>\n",
              "      <td>-5.230336e-15</td>\n",
              "      <td>7.259880e-14</td>\n",
              "      <td>-4.008219e-15</td>\n",
              "      <td>-4.542290e-14</td>\n",
              "      <td>-4.297752e-14</td>\n",
              "      <td>6.271290e-18</td>\n",
              "      <td>9.844959e-15</td>\n",
              "      <td>1.679891e-14</td>\n",
              "      <td>0</td>\n",
              "      <td>1</td>\n",
              "      <td>0</td>\n",
              "      <td>0</td>\n",
              "      <td>0</td>\n",
              "      <td>0</td>\n",
              "      <td>0</td>\n",
              "      <td>0</td>\n",
              "      <td>0</td>\n",
              "      <td>0</td>\n",
              "      <td>0</td>\n",
              "      <td>1</td>\n",
              "      <td>0</td>\n",
              "      <td>0</td>\n",
              "      <td>0</td>\n",
              "      <td>0</td>\n",
              "      <td>0</td>\n",
              "      <td>0</td>\n",
              "      <td>0</td>\n",
              "      <td>1</td>\n",
              "      <td>0</td>\n",
              "      <td>0</td>\n",
              "      <td>0</td>\n",
              "    </tr>\n",
              "    <tr>\n",
              "      <th>10</th>\n",
              "      <td>1</td>\n",
              "      <td>0.0</td>\n",
              "      <td>0.0</td>\n",
              "      <td>1.0</td>\n",
              "      <td>0.0</td>\n",
              "      <td>0.0</td>\n",
              "      <td>0.0</td>\n",
              "      <td>0.0</td>\n",
              "      <td>0.0</td>\n",
              "      <td>0.0</td>\n",
              "      <td>0</td>\n",
              "      <td>2.773561</td>\n",
              "      <td>1.848822e-15</td>\n",
              "      <td>-1.638664e-15</td>\n",
              "      <td>5.716898e-15</td>\n",
              "      <td>-1.500719e-14</td>\n",
              "      <td>-1.168326e-14</td>\n",
              "      <td>2.786883e-15</td>\n",
              "      <td>-1.711758e-14</td>\n",
              "      <td>3.446221e-16</td>\n",
              "      <td>-6.359607e-15</td>\n",
              "      <td>-2.197240e-15</td>\n",
              "      <td>-3.345358e-15</td>\n",
              "      <td>4.811566e-15</td>\n",
              "      <td>-2.651714e-14</td>\n",
              "      <td>-9.892444e-15</td>\n",
              "      <td>2.435102e-14</td>\n",
              "      <td>1.983112e-14</td>\n",
              "      <td>1.541108e-14</td>\n",
              "      <td>6.378608e-14</td>\n",
              "      <td>1.023372e-13</td>\n",
              "      <td>-1.125195e-14</td>\n",
              "      <td>1.244256e-14</td>\n",
              "      <td>-2.518614e-14</td>\n",
              "      <td>-3.288167e-14</td>\n",
              "      <td>-2.982191e-14</td>\n",
              "      <td>4.308198e-14</td>\n",
              "      <td>0</td>\n",
              "      <td>0</td>\n",
              "      <td>0</td>\n",
              "      <td>0</td>\n",
              "      <td>0</td>\n",
              "      <td>0</td>\n",
              "      <td>0</td>\n",
              "      <td>0</td>\n",
              "      <td>0</td>\n",
              "      <td>0</td>\n",
              "      <td>1</td>\n",
              "      <td>0</td>\n",
              "      <td>0</td>\n",
              "      <td>0</td>\n",
              "      <td>0</td>\n",
              "      <td>0</td>\n",
              "      <td>0</td>\n",
              "      <td>1</td>\n",
              "      <td>0</td>\n",
              "      <td>0</td>\n",
              "      <td>0</td>\n",
              "      <td>0</td>\n",
              "      <td>0</td>\n",
              "    </tr>\n",
              "    <tr>\n",
              "      <th>...</th>\n",
              "      <td>...</td>\n",
              "      <td>...</td>\n",
              "      <td>...</td>\n",
              "      <td>...</td>\n",
              "      <td>...</td>\n",
              "      <td>...</td>\n",
              "      <td>...</td>\n",
              "      <td>...</td>\n",
              "      <td>...</td>\n",
              "      <td>...</td>\n",
              "      <td>...</td>\n",
              "      <td>...</td>\n",
              "      <td>...</td>\n",
              "      <td>...</td>\n",
              "      <td>...</td>\n",
              "      <td>...</td>\n",
              "      <td>...</td>\n",
              "      <td>...</td>\n",
              "      <td>...</td>\n",
              "      <td>...</td>\n",
              "      <td>...</td>\n",
              "      <td>...</td>\n",
              "      <td>...</td>\n",
              "      <td>...</td>\n",
              "      <td>...</td>\n",
              "      <td>...</td>\n",
              "      <td>...</td>\n",
              "      <td>...</td>\n",
              "      <td>...</td>\n",
              "      <td>...</td>\n",
              "      <td>...</td>\n",
              "      <td>...</td>\n",
              "      <td>...</td>\n",
              "      <td>...</td>\n",
              "      <td>...</td>\n",
              "      <td>...</td>\n",
              "      <td>...</td>\n",
              "      <td>...</td>\n",
              "      <td>...</td>\n",
              "      <td>...</td>\n",
              "      <td>...</td>\n",
              "      <td>...</td>\n",
              "      <td>...</td>\n",
              "      <td>...</td>\n",
              "      <td>...</td>\n",
              "      <td>...</td>\n",
              "      <td>...</td>\n",
              "      <td>...</td>\n",
              "      <td>...</td>\n",
              "      <td>...</td>\n",
              "      <td>...</td>\n",
              "      <td>...</td>\n",
              "      <td>...</td>\n",
              "      <td>...</td>\n",
              "      <td>...</td>\n",
              "      <td>...</td>\n",
              "      <td>...</td>\n",
              "      <td>...</td>\n",
              "      <td>...</td>\n",
              "      <td>...</td>\n",
              "    </tr>\n",
              "    <tr>\n",
              "      <th>131035</th>\n",
              "      <td>1</td>\n",
              "      <td>0.0</td>\n",
              "      <td>0.0</td>\n",
              "      <td>0.0</td>\n",
              "      <td>0.0</td>\n",
              "      <td>0.0</td>\n",
              "      <td>0.0</td>\n",
              "      <td>0.0</td>\n",
              "      <td>0.0</td>\n",
              "      <td>0.0</td>\n",
              "      <td>1</td>\n",
              "      <td>13.589807</td>\n",
              "      <td>-5.017671e-16</td>\n",
              "      <td>3.332903e-15</td>\n",
              "      <td>1.732035e-15</td>\n",
              "      <td>-2.838772e-16</td>\n",
              "      <td>5.998905e-16</td>\n",
              "      <td>-5.133027e-16</td>\n",
              "      <td>6.239465e-16</td>\n",
              "      <td>4.973902e-16</td>\n",
              "      <td>-5.015930e-16</td>\n",
              "      <td>-3.477597e-16</td>\n",
              "      <td>-5.156966e-17</td>\n",
              "      <td>-1.034672e-16</td>\n",
              "      <td>3.667674e-16</td>\n",
              "      <td>-1.232480e-16</td>\n",
              "      <td>4.876600e-16</td>\n",
              "      <td>9.796581e-18</td>\n",
              "      <td>1.648923e-16</td>\n",
              "      <td>1.690045e-16</td>\n",
              "      <td>-1.052805e-16</td>\n",
              "      <td>-3.058974e-16</td>\n",
              "      <td>1.210986e-16</td>\n",
              "      <td>-2.119732e-16</td>\n",
              "      <td>6.241449e-17</td>\n",
              "      <td>2.417399e-16</td>\n",
              "      <td>-3.109838e-16</td>\n",
              "      <td>0</td>\n",
              "      <td>1</td>\n",
              "      <td>0</td>\n",
              "      <td>0</td>\n",
              "      <td>0</td>\n",
              "      <td>0</td>\n",
              "      <td>0</td>\n",
              "      <td>0</td>\n",
              "      <td>0</td>\n",
              "      <td>0</td>\n",
              "      <td>1</td>\n",
              "      <td>0</td>\n",
              "      <td>0</td>\n",
              "      <td>0</td>\n",
              "      <td>0</td>\n",
              "      <td>0</td>\n",
              "      <td>0</td>\n",
              "      <td>1</td>\n",
              "      <td>0</td>\n",
              "      <td>0</td>\n",
              "      <td>0</td>\n",
              "      <td>0</td>\n",
              "      <td>0</td>\n",
              "    </tr>\n",
              "    <tr>\n",
              "      <th>131037</th>\n",
              "      <td>0</td>\n",
              "      <td>0.0</td>\n",
              "      <td>0.0</td>\n",
              "      <td>1.0</td>\n",
              "      <td>0.0</td>\n",
              "      <td>0.0</td>\n",
              "      <td>0.0</td>\n",
              "      <td>0.0</td>\n",
              "      <td>0.0</td>\n",
              "      <td>0.0</td>\n",
              "      <td>0</td>\n",
              "      <td>-0.831855</td>\n",
              "      <td>1.186035e-17</td>\n",
              "      <td>2.437272e-17</td>\n",
              "      <td>-9.896682e-17</td>\n",
              "      <td>-8.423742e-18</td>\n",
              "      <td>-7.533068e-17</td>\n",
              "      <td>5.056347e-17</td>\n",
              "      <td>-4.706317e-17</td>\n",
              "      <td>-6.946832e-17</td>\n",
              "      <td>2.160398e-16</td>\n",
              "      <td>6.946851e-17</td>\n",
              "      <td>-1.546631e-17</td>\n",
              "      <td>-3.027111e-17</td>\n",
              "      <td>1.252356e-16</td>\n",
              "      <td>2.135945e-17</td>\n",
              "      <td>-5.885263e-18</td>\n",
              "      <td>-5.574210e-17</td>\n",
              "      <td>-7.122553e-17</td>\n",
              "      <td>2.220105e-17</td>\n",
              "      <td>-4.916780e-17</td>\n",
              "      <td>-2.696592e-17</td>\n",
              "      <td>-3.377137e-17</td>\n",
              "      <td>6.264344e-17</td>\n",
              "      <td>-7.759820e-17</td>\n",
              "      <td>-3.811320e-17</td>\n",
              "      <td>7.321507e-17</td>\n",
              "      <td>0</td>\n",
              "      <td>0</td>\n",
              "      <td>0</td>\n",
              "      <td>0</td>\n",
              "      <td>1</td>\n",
              "      <td>0</td>\n",
              "      <td>0</td>\n",
              "      <td>0</td>\n",
              "      <td>0</td>\n",
              "      <td>0</td>\n",
              "      <td>0</td>\n",
              "      <td>0</td>\n",
              "      <td>0</td>\n",
              "      <td>0</td>\n",
              "      <td>1</td>\n",
              "      <td>0</td>\n",
              "      <td>0</td>\n",
              "      <td>0</td>\n",
              "      <td>0</td>\n",
              "      <td>0</td>\n",
              "      <td>0</td>\n",
              "      <td>0</td>\n",
              "      <td>0</td>\n",
              "    </tr>\n",
              "    <tr>\n",
              "      <th>131039</th>\n",
              "      <td>0</td>\n",
              "      <td>0.0</td>\n",
              "      <td>0.0</td>\n",
              "      <td>0.0</td>\n",
              "      <td>0.0</td>\n",
              "      <td>0.0</td>\n",
              "      <td>0.0</td>\n",
              "      <td>0.0</td>\n",
              "      <td>0.0</td>\n",
              "      <td>1.0</td>\n",
              "      <td>0</td>\n",
              "      <td>-4.952329</td>\n",
              "      <td>9.844079e-16</td>\n",
              "      <td>3.905187e-15</td>\n",
              "      <td>-1.733524e-15</td>\n",
              "      <td>-4.949824e-15</td>\n",
              "      <td>1.094978e-15</td>\n",
              "      <td>-1.928304e-14</td>\n",
              "      <td>-1.923157e-15</td>\n",
              "      <td>8.710489e-15</td>\n",
              "      <td>-5.992689e-15</td>\n",
              "      <td>-7.801408e-15</td>\n",
              "      <td>5.588426e-16</td>\n",
              "      <td>5.838646e-15</td>\n",
              "      <td>-2.538781e-14</td>\n",
              "      <td>-2.016658e-15</td>\n",
              "      <td>-1.596020e-16</td>\n",
              "      <td>1.740295e-15</td>\n",
              "      <td>9.627501e-15</td>\n",
              "      <td>1.379137e-14</td>\n",
              "      <td>-1.391439e-15</td>\n",
              "      <td>1.347212e-14</td>\n",
              "      <td>3.831351e-15</td>\n",
              "      <td>3.890868e-15</td>\n",
              "      <td>-9.230258e-15</td>\n",
              "      <td>2.157187e-14</td>\n",
              "      <td>-1.137027e-14</td>\n",
              "      <td>0</td>\n",
              "      <td>0</td>\n",
              "      <td>0</td>\n",
              "      <td>0</td>\n",
              "      <td>0</td>\n",
              "      <td>0</td>\n",
              "      <td>0</td>\n",
              "      <td>0</td>\n",
              "      <td>0</td>\n",
              "      <td>0</td>\n",
              "      <td>0</td>\n",
              "      <td>0</td>\n",
              "      <td>1</td>\n",
              "      <td>0</td>\n",
              "      <td>0</td>\n",
              "      <td>0</td>\n",
              "      <td>0</td>\n",
              "      <td>0</td>\n",
              "      <td>0</td>\n",
              "      <td>0</td>\n",
              "      <td>0</td>\n",
              "      <td>0</td>\n",
              "      <td>0</td>\n",
              "    </tr>\n",
              "    <tr>\n",
              "      <th>131041</th>\n",
              "      <td>0</td>\n",
              "      <td>0.0</td>\n",
              "      <td>0.0</td>\n",
              "      <td>0.0</td>\n",
              "      <td>0.0</td>\n",
              "      <td>0.0</td>\n",
              "      <td>0.0</td>\n",
              "      <td>0.0</td>\n",
              "      <td>0.0</td>\n",
              "      <td>0.0</td>\n",
              "      <td>0</td>\n",
              "      <td>2.258501</td>\n",
              "      <td>-1.376602e-17</td>\n",
              "      <td>4.710423e-17</td>\n",
              "      <td>1.098111e-17</td>\n",
              "      <td>3.729646e-18</td>\n",
              "      <td>5.480173e-17</td>\n",
              "      <td>-5.065069e-18</td>\n",
              "      <td>3.799712e-17</td>\n",
              "      <td>5.252473e-17</td>\n",
              "      <td>-4.480149e-17</td>\n",
              "      <td>-3.855972e-17</td>\n",
              "      <td>-1.736166e-17</td>\n",
              "      <td>-6.993529e-18</td>\n",
              "      <td>2.159282e-17</td>\n",
              "      <td>-3.510714e-18</td>\n",
              "      <td>3.306536e-17</td>\n",
              "      <td>3.398821e-18</td>\n",
              "      <td>2.265278e-17</td>\n",
              "      <td>-3.708940e-19</td>\n",
              "      <td>-6.396378e-19</td>\n",
              "      <td>-1.832587e-17</td>\n",
              "      <td>1.878802e-17</td>\n",
              "      <td>-2.157176e-17</td>\n",
              "      <td>8.658390e-18</td>\n",
              "      <td>3.416958e-17</td>\n",
              "      <td>5.443702e-18</td>\n",
              "      <td>0</td>\n",
              "      <td>0</td>\n",
              "      <td>0</td>\n",
              "      <td>0</td>\n",
              "      <td>0</td>\n",
              "      <td>0</td>\n",
              "      <td>0</td>\n",
              "      <td>0</td>\n",
              "      <td>0</td>\n",
              "      <td>0</td>\n",
              "      <td>0</td>\n",
              "      <td>0</td>\n",
              "      <td>0</td>\n",
              "      <td>0</td>\n",
              "      <td>0</td>\n",
              "      <td>0</td>\n",
              "      <td>0</td>\n",
              "      <td>0</td>\n",
              "      <td>0</td>\n",
              "      <td>0</td>\n",
              "      <td>0</td>\n",
              "      <td>0</td>\n",
              "      <td>0</td>\n",
              "    </tr>\n",
              "    <tr>\n",
              "      <th>131050</th>\n",
              "      <td>0</td>\n",
              "      <td>1.0</td>\n",
              "      <td>0.0</td>\n",
              "      <td>0.0</td>\n",
              "      <td>0.0</td>\n",
              "      <td>0.0</td>\n",
              "      <td>0.0</td>\n",
              "      <td>0.0</td>\n",
              "      <td>0.0</td>\n",
              "      <td>0.0</td>\n",
              "      <td>0</td>\n",
              "      <td>-2.377033</td>\n",
              "      <td>4.272826e-17</td>\n",
              "      <td>-4.669175e-17</td>\n",
              "      <td>-1.040394e-17</td>\n",
              "      <td>1.577584e-17</td>\n",
              "      <td>-7.172480e-17</td>\n",
              "      <td>2.344103e-17</td>\n",
              "      <td>-1.167477e-17</td>\n",
              "      <td>-5.392122e-17</td>\n",
              "      <td>4.387870e-17</td>\n",
              "      <td>2.362548e-17</td>\n",
              "      <td>3.140320e-17</td>\n",
              "      <td>9.455282e-18</td>\n",
              "      <td>-2.252549e-17</td>\n",
              "      <td>8.815897e-19</td>\n",
              "      <td>-2.827741e-17</td>\n",
              "      <td>1.717041e-18</td>\n",
              "      <td>-2.877817e-17</td>\n",
              "      <td>1.251964e-18</td>\n",
              "      <td>-3.431730e-18</td>\n",
              "      <td>1.642308e-17</td>\n",
              "      <td>-1.438029e-17</td>\n",
              "      <td>2.837305e-17</td>\n",
              "      <td>-1.760315e-17</td>\n",
              "      <td>-2.023367e-17</td>\n",
              "      <td>8.840360e-19</td>\n",
              "      <td>1</td>\n",
              "      <td>0</td>\n",
              "      <td>0</td>\n",
              "      <td>0</td>\n",
              "      <td>0</td>\n",
              "      <td>0</td>\n",
              "      <td>0</td>\n",
              "      <td>0</td>\n",
              "      <td>0</td>\n",
              "      <td>0</td>\n",
              "      <td>0</td>\n",
              "      <td>0</td>\n",
              "      <td>0</td>\n",
              "      <td>0</td>\n",
              "      <td>0</td>\n",
              "      <td>0</td>\n",
              "      <td>0</td>\n",
              "      <td>0</td>\n",
              "      <td>0</td>\n",
              "      <td>0</td>\n",
              "      <td>0</td>\n",
              "      <td>0</td>\n",
              "      <td>0</td>\n",
              "    </tr>\n",
              "  </tbody>\n",
              "</table>\n",
              "<p>39308 rows × 60 columns</p>\n",
              "</div>"
            ],
            "text/plain": [
              "              apache_post_operative  ...  apache_2_bodysystem_Undefined diagnoses\n",
              "encounter_id                         ...                                         \n",
              "2                                 0  ...                                        0\n",
              "5                                 1  ...                                        0\n",
              "7                                 1  ...                                        0\n",
              "8                                 0  ...                                        0\n",
              "10                                1  ...                                        0\n",
              "...                             ...  ...                                      ...\n",
              "131035                            1  ...                                        0\n",
              "131037                            0  ...                                        0\n",
              "131039                            0  ...                                        0\n",
              "131041                            0  ...                                        0\n",
              "131050                            0  ...                                        0\n",
              "\n",
              "[39308 rows x 60 columns]"
            ]
          },
          "metadata": {
            "tags": []
          },
          "execution_count": 70
        }
      ]
    },
    {
      "cell_type": "code",
      "metadata": {
        "id": "F-1t4A1eFn62",
        "colab_type": "code",
        "outputId": "48c243c6-afaf-403d-f970-b0bd72286a64",
        "colab": {
          "base_uri": "https://localhost:8080/",
          "height": 204
        }
      },
      "source": [
        "unlabel_X.isna().sum().sort_values(ascending=False).head(10)"
      ],
      "execution_count": 0,
      "outputs": [
        {
          "output_type": "execute_result",
          "data": {
            "text/plain": [
              "lymphoma                       179\n",
              "arf_apache                     179\n",
              "intubated_apache               179\n",
              "ventilated_apache              179\n",
              "cirrhosis                      179\n",
              "hepatic_failure                179\n",
              "immunosuppression              179\n",
              "leukemia                       179\n",
              "solid_tumor_with_metastasis    179\n",
              "PC14                             0\n",
              "dtype: int64"
            ]
          },
          "metadata": {
            "tags": []
          },
          "execution_count": 71
        }
      ]
    },
    {
      "cell_type": "markdown",
      "metadata": {
        "id": "INgS0SdZiFYC",
        "colab_type": "text"
      },
      "source": [
        "## fill missing with mode "
      ]
    },
    {
      "cell_type": "code",
      "metadata": {
        "id": "Bys33LpEId5D",
        "colab_type": "code",
        "colab": {}
      },
      "source": [
        "unlabel_X['immunosuppression'].value_counts()\n",
        "unlabel_X['immunosuppression']=unlabel_X['immunosuppression'].fillna(0)\n",
        "unlabel_X['solid_tumor_with_metastasis'].value_counts()\n",
        "unlabel_X['solid_tumor_with_metastasis']=unlabel_X['solid_tumor_with_metastasis'].fillna(0)\n",
        "unlabel_X['leukemia'].value_counts()\n",
        "unlabel_X['leukemia']=unlabel_X['leukemia'].fillna(0)\n",
        "unlabel_X['lymphoma'].value_counts()\n",
        "unlabel_X['lymphoma']=unlabel_X['lymphoma'].fillna(0)\n",
        "unlabel_X['arf_apache'].value_counts()\n",
        "unlabel_X['arf_apache']=unlabel_X['arf_apache'].fillna(0)\n",
        "unlabel_X['intubated_apache'].value_counts()\n",
        "unlabel_X['intubated_apache']=unlabel_X['intubated_apache'].fillna(0)\n",
        "unlabel_X['ventilated_apache'].value_counts()\n",
        "unlabel_X['ventilated_apache']=unlabel_X['ventilated_apache'].fillna(0)\n",
        "unlabel_X['cirrhosis'].value_counts()\n",
        "unlabel_X['cirrhosis']=unlabel_X['cirrhosis'].fillna(0)\n",
        "unlabel_X['hepatic_failure'].value_counts()\n",
        "unlabel_X['hepatic_failure']=unlabel_X['hepatic_failure'].fillna(0)"
      ],
      "execution_count": 0,
      "outputs": []
    },
    {
      "cell_type": "markdown",
      "metadata": {
        "id": "SK29VA7ZibTi",
        "colab_type": "text"
      },
      "source": [
        "## Make prediction"
      ]
    },
    {
      "cell_type": "code",
      "metadata": {
        "id": "F90haaaTWEbZ",
        "colab_type": "code",
        "colab": {}
      },
      "source": [
        "unlabel[['hospital_death']]=(cv2.predict_proba(unlabel_X)[:,1])"
      ],
      "execution_count": 0,
      "outputs": []
    },
    {
      "cell_type": "code",
      "metadata": {
        "id": "zpGC_HA9WiuI",
        "colab_type": "code",
        "outputId": "aac22482-0707-4152-ace1-603443af3bef",
        "colab": {
          "base_uri": "https://localhost:8080/",
          "height": 450
        }
      },
      "source": [
        "submission=unlabel[['hospital_death']]\n",
        "submission"
      ],
      "execution_count": 0,
      "outputs": [
        {
          "output_type": "execute_result",
          "data": {
            "text/html": [
              "<div>\n",
              "<style scoped>\n",
              "    .dataframe tbody tr th:only-of-type {\n",
              "        vertical-align: middle;\n",
              "    }\n",
              "\n",
              "    .dataframe tbody tr th {\n",
              "        vertical-align: top;\n",
              "    }\n",
              "\n",
              "    .dataframe thead th {\n",
              "        text-align: right;\n",
              "    }\n",
              "</style>\n",
              "<table border=\"1\" class=\"dataframe\">\n",
              "  <thead>\n",
              "    <tr style=\"text-align: right;\">\n",
              "      <th></th>\n",
              "      <th>hospital_death</th>\n",
              "    </tr>\n",
              "    <tr>\n",
              "      <th>encounter_id</th>\n",
              "      <th></th>\n",
              "    </tr>\n",
              "  </thead>\n",
              "  <tbody>\n",
              "    <tr>\n",
              "      <th>2</th>\n",
              "      <td>0.204436</td>\n",
              "    </tr>\n",
              "    <tr>\n",
              "      <th>5</th>\n",
              "      <td>0.068096</td>\n",
              "    </tr>\n",
              "    <tr>\n",
              "      <th>7</th>\n",
              "      <td>0.049489</td>\n",
              "    </tr>\n",
              "    <tr>\n",
              "      <th>8</th>\n",
              "      <td>0.304992</td>\n",
              "    </tr>\n",
              "    <tr>\n",
              "      <th>10</th>\n",
              "      <td>0.542909</td>\n",
              "    </tr>\n",
              "    <tr>\n",
              "      <th>...</th>\n",
              "      <td>...</td>\n",
              "    </tr>\n",
              "    <tr>\n",
              "      <th>131035</th>\n",
              "      <td>0.045928</td>\n",
              "    </tr>\n",
              "    <tr>\n",
              "      <th>131037</th>\n",
              "      <td>0.225061</td>\n",
              "    </tr>\n",
              "    <tr>\n",
              "      <th>131039</th>\n",
              "      <td>0.310880</td>\n",
              "    </tr>\n",
              "    <tr>\n",
              "      <th>131041</th>\n",
              "      <td>0.066715</td>\n",
              "    </tr>\n",
              "    <tr>\n",
              "      <th>131050</th>\n",
              "      <td>0.172114</td>\n",
              "    </tr>\n",
              "  </tbody>\n",
              "</table>\n",
              "<p>39308 rows × 1 columns</p>\n",
              "</div>"
            ],
            "text/plain": [
              "              hospital_death\n",
              "encounter_id                \n",
              "2                   0.204436\n",
              "5                   0.068096\n",
              "7                   0.049489\n",
              "8                   0.304992\n",
              "10                  0.542909\n",
              "...                      ...\n",
              "131035              0.045928\n",
              "131037              0.225061\n",
              "131039              0.310880\n",
              "131041              0.066715\n",
              "131050              0.172114\n",
              "\n",
              "[39308 rows x 1 columns]"
            ]
          },
          "metadata": {
            "tags": []
          },
          "execution_count": 88
        }
      ]
    }
  ]
}